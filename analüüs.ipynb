{
 "cells": [
  {
   "cell_type": "markdown",
   "id": "d8af5559",
   "metadata": {},
   "source": [
    "# Andmeanalüüs lõputöö „Soolised erinevused kursuse „Objektorienteeritud programmeerimine“ läbimisel“ jaoks\n",
    "\n",
    "### Pärl Pind\n",
    "### Tartu 2025\n"
   ]
  },
  {
   "cell_type": "markdown",
   "id": "57e1adfe",
   "metadata": {},
   "source": [
    "## Eeltöötlus\n",
    "\n",
    "Vajalike teekide importimine, süvendusrühma ja eeleksami läbinute eemaldamine."
   ]
  },
  {
   "cell_type": "markdown",
   "id": "0e2c86e3",
   "metadata": {},
   "source": [
    "### Impordid"
   ]
  },
  {
   "cell_type": "code",
   "execution_count": 1,
   "id": "9e95a8ee-0fc8-405a-8ca9-09b1c52fdbd7",
   "metadata": {},
   "outputs": [],
   "source": [
    "import pandas as pd\n",
    "import numpy as np\n",
    "import matplotlib.pyplot as plt\n",
    "\n",
    "from matplotlib.ticker import FuncFormatter\n",
    "\n",
    "from scipy.stats import shapiro, mannwhitneyu, chi2_contingency "
   ]
  },
  {
   "cell_type": "markdown",
   "id": "c4cd788c-3fa3-4cf6-be0d-ae976ffbe646",
   "metadata": {},
   "source": [
    "### Andmestiku lugemine ja töötlemine"
   ]
  },
  {
   "cell_type": "code",
   "execution_count": 2,
   "id": "48415eb2-769a-421c-9d48-66c8c906cd83",
   "metadata": {},
   "outputs": [],
   "source": [
    "df = pd.read_excel(\"andmestik.xlsx\")\n",
    "algne = df.copy()"
   ]
  },
  {
   "cell_type": "markdown",
   "id": "11cc6c3e-3994-4af8-9b16-1cb01aed5543",
   "metadata": {},
   "source": [
    "Süvendusrühma tulemused ja eeleksami sooritajate eemaldamine"
   ]
  },
  {
   "cell_type": "code",
   "execution_count": 3,
   "id": "3af81476-a8c8-431e-91bb-1cc0ea0c5d31",
   "metadata": {},
   "outputs": [],
   "source": [
    "df = df[(df['Unnamed: 3'] != '17. rühm - süvendusrühm') & (df['Unnamed: 3'] != '18. rühm - eeleksam')]"
   ]
  },
  {
   "cell_type": "markdown",
   "id": "42af13e7-4e07-4678-847a-dba2178e5268",
   "metadata": {},
   "source": [
    "Peale süvendusrühma ja eeleksami sooritajate eemaldamist on mehi 200 ja naisi 94, enne oli 225 meest ja 98 naist"
   ]
  },
  {
   "cell_type": "markdown",
   "id": "48619f56-d077-4f22-ade6-443c632617da",
   "metadata": {},
   "source": [
    "## Analüüs"
   ]
  },
  {
   "cell_type": "markdown",
   "id": "c52af08d-6c96-4e61-b03c-209526f61af9",
   "metadata": {},
   "source": [
    "### Praktikumipunktid\n",
    "\n",
    "Praktikumipunktid ehk praktikumis osalemise ja kodutööde eest saadud punktid. Maksimaalne punktisumma praktikumipunktide eest oli 12 punkti, millest praktikumides osalemine andis 6,5 ja kodutöös 5,5. "
   ]
  },
  {
   "cell_type": "code",
   "execution_count": 4,
   "id": "d793ffbc-b097-4012-a20a-08ec9d09d8d6",
   "metadata": {},
   "outputs": [
    {
     "name": "stdout",
     "output_type": "stream",
     "text": [
      "Praktikumipunktid - kodutööd ja osalemine kokku\n",
      "\n",
      "Normaaljaotuse kontroll\n",
      "Shapiro-Wilk test p-value: 5.650986067431106e-14\n",
      "Ei ole normaaljaotus\n",
      "\n",
      "Mehed -  mediaan: 9.6, keskmine: 8.67, standardhälve: 2.96\n",
      "Naised - mediaan: 10.1, keskmine: 9.19, standardhälve: 2.64\n",
      "\n",
      "Mann-Whitney test - U-stat: 8483.5 p-value: 0.199\n"
     ]
    },
    {
     "data": {
      "image/png": "[encoded data removed]",
      "text/plain": [
       "<Figure size 1000x700 with 1 Axes>"
      ]
     },
     "metadata": {},
     "output_type": "display_data"
    }
   ],
   "source": [
    "tulp = 'Kodutööd ja osalemine kokku (Punktid)'\n",
    "dfcopy = df[['Sugu', tulp]].copy()\n",
    "\n",
    "print(\"Praktikumipunktid - kodutööd ja osalemine kokku\")\n",
    "print(\"\")\n",
    "\n",
    "# Tekstiväärtuste teisendamine numbriteks, puuduvate väärtuste eemaldamine\n",
    "dfcopy[tulp] = pd.to_numeric(dfcopy[tulp], errors='coerce')\n",
    "dfcopy.dropna(subset = [tulp], inplace=True)\n",
    "\n",
    "# Kontroll, kas andmed on normaaljaotusega (Shapiro-Wilk test)\n",
    "print(\"Normaaljaotuse kontroll\")\n",
    "statistic, pvalue = shapiro(dfcopy[tulp])\n",
    "\n",
    "print(\"Shapiro-Wilk test p-value:\", pvalue)\n",
    "if(pvalue < 0.05):\n",
    "    print(\"Ei ole normaaljaotus\")\n",
    "else:\n",
    "    print(\"On normaaljaotus\")\n",
    "\n",
    "print(\"\")\n",
    "\n",
    "# Punktide sooline eraldamine\n",
    "punktid_M = dfcopy[dfcopy[\"Sugu\"] == \"M\"][tulp].astype(float)\n",
    "punktid_N = dfcopy[dfcopy[\"Sugu\"] == \"N\"][tulp].astype(float)\n",
    "\n",
    "# Mediaani, keskmise, standardhälve arvutamine\n",
    "print(f\"Mehed -  mediaan: {round(np.median(punktid_M), 2)}, keskmine: {round(np.mean(punktid_M), 2)}, standardhälve: {round(np.std(punktid_M), 2)}\")\n",
    "print(f\"Naised - mediaan: {round(np.median(punktid_N), 2)}, keskmine: {round(np.mean(punktid_N), 2)}, standardhälve: {round(np.std(punktid_N), 2)}\")\n",
    "\n",
    "print(\"\")\n",
    "\n",
    "# Soolise erinevuse test - Mann-Whitney U test\n",
    "stat, pvalue = mannwhitneyu(punktid_M, punktid_N)\n",
    "print(\"Mann-Whitney test - U-stat:\", round(stat, 1), \"p-value:\", round(pvalue, 3))\n",
    "if (pvalue < 0.05):\n",
    "    print(\"      Mann-Whitney U-testi järgi statistiliselt oluline erinevus, olulisusnivoo 0.05\")\n",
    "\n",
    "# Tulemuste visualiseerimine karpdiagrammina\n",
    "fig = plt.figure(figsize =(10, 7))\n",
    "plt.boxplot([punktid_M, punktid_N], labels=[\"M\", \"N\"])\n",
    "\n",
    "# Joonise kuvamine\n",
    "plt.show()"
   ]
  },
  {
   "cell_type": "markdown",
   "id": "e4ca38f3-7af1-4d02-b49a-9255404cc8ff",
   "metadata": {},
   "source": [
    "### Praktikumides osalemine\n",
    "\n",
    "Praktikumides osalemise eest oli kokku võimalik saada 6,5 punkti. Kokku oli 12 praktikumi, esimese praktikumi eest oli võimalik saada 1 punkt, ülejäänude eest 0,5 punkti."
   ]
  },
  {
   "cell_type": "code",
   "execution_count": 5,
   "id": "9b765aed-af3e-4540-9f12-384c96df949d",
   "metadata": {},
   "outputs": [
    {
     "name": "stdout",
     "output_type": "stream",
     "text": [
      "Praktikumides osalemine\n",
      "\n",
      "Normaaljaotuse kontroll\n",
      "Shapiro-Wilk test p-value: 1.4285235801734397e-16\n",
      "Ei ole normaaljaotus\n",
      "\n",
      "Mehed -  mediaan: 5.5, keskmine: 4.86, standardhälve: 1.66\n",
      "Naised - mediaan: 6.0, keskmine: 5.3, standardhälve: 1.47\n",
      "\n",
      "Mann-Whitney test - U-stat: 7736.5 p-value: 0.013\n",
      "      Mann-Whitney U-testi järgi statistiliselt oluline erinevus, olulisusnivoo 0.05\n"
     ]
    },
    {
     "data": {
      "image/png": "[encoded data removed]",
      "text/plain": [
       "<Figure size 1000x700 with 1 Axes>"
      ]
     },
     "metadata": {},
     "output_type": "display_data"
    }
   ],
   "source": [
    "# Praktikumides osalemine\n",
    "\n",
    "# Praktikumides osalemise punktide tulpade kombineerimine üheks tulbaks\n",
    "dfcopy = df.copy()\n",
    "dfcopy[\"Praktikumides osalemine\"] = dfcopy.filter(like='praktikum ').apply(pd.to_numeric, errors='coerce').sum(axis=1)\n",
    "tulp = 'Praktikumides osalemine'\n",
    "dfcopy = dfcopy[['Sugu', tulp]].copy()\n",
    "\n",
    "print(\"Praktikumides osalemine\")\n",
    "print(\"\")\n",
    "\n",
    "# Tekstiväärtuste teisendamine numbriteks, puuduvate väärtuste eemaldamine\n",
    "dfcopy[tulp] = pd.to_numeric(dfcopy[tulp], errors='coerce')\n",
    "dfcopy.dropna(subset = [tulp], inplace=True)\n",
    "\n",
    "# Kontroll, kas andmed on normaaljaotusega (Shapiro-Wilk test)\n",
    "print(\"Normaaljaotuse kontroll\")\n",
    "statistic, pvalue = shapiro(dfcopy[tulp])\n",
    "\n",
    "print(\"Shapiro-Wilk test p-value:\", pvalue)\n",
    "if(pvalue < 0.05):\n",
    "    print(\"Ei ole normaaljaotus\")\n",
    "else:\n",
    "    print(\"On normaaljaotus\")\n",
    "\n",
    "print(\"\")\n",
    "\n",
    "# Punktide sooline eraldamine\n",
    "punktid_M = dfcopy[dfcopy[\"Sugu\"] == \"M\"][tulp].astype(float)\n",
    "punktid_N = dfcopy[dfcopy[\"Sugu\"] == \"N\"][tulp].astype(float)\n",
    "\n",
    "# Mediaani, keskmise, standardhälve arvutamine\n",
    "print(f\"Mehed -  mediaan: {round(np.median(punktid_M), 2)}, keskmine: {round(np.mean(punktid_M), 2)}, standardhälve: {round(np.std(punktid_M), 2)}\")\n",
    "print(f\"Naised - mediaan: {round(np.median(punktid_N), 2)}, keskmine: {round(np.mean(punktid_N), 2)}, standardhälve: {round(np.std(punktid_N), 2)}\")\n",
    "\n",
    "print(\"\")\n",
    "\n",
    "# Soolise erinevuse test - Mann-Whitney U test\n",
    "stat, pvalue = mannwhitneyu(punktid_M, punktid_N)\n",
    "print(\"Mann-Whitney test - U-stat:\", round(stat, 1), \"p-value:\", round(pvalue, 3))\n",
    "if (pvalue < 0.05):\n",
    "    print(\"      Mann-Whitney U-testi järgi statistiliselt oluline erinevus, olulisusnivoo 0.05\")\n",
    "\n",
    "# Tulemuste visualiseerimine karpdiagrammina\n",
    "fig = plt.figure(figsize =(10, 7))\n",
    "plt.boxplot([punktid_M, punktid_N], labels=[\"M\", \"N\"])\n",
    "\n",
    "# Joonise kuvamine\n",
    "plt.show()"
   ]
  },
  {
   "cell_type": "markdown",
   "id": "cbcc8565-66fd-4ff9-bd1e-d506092aed21",
   "metadata": {},
   "source": [
    "Selleks, et arvutada, mitmes praktikumis üliõpilased keskmiselt osalesid, eeldatakse, et kui üliõpilane sai praktikumis osalemise eest rohkem kui 0 punkti, siis ta osales praktikumis. Kuna esimeses praktikumis oli võimalik saada 0,5 punkti asemel 1 punkt, tehakse järgmises koodiplokis kõik praktikumid võrdse kaaluga."
   ]
  },
  {
   "cell_type": "code",
   "execution_count": 6,
   "id": "f9360474",
   "metadata": {},
   "outputs": [
    {
     "name": "stdout",
     "output_type": "stream",
     "text": [
      "Keskmine praktikumides osalemine\n",
      "\n",
      "Mehed -  mediaan: 10.0, keskmine: 8.86, standardhälve: 3.2\n",
      "Naised - mediaan: 11.0, keskmine: 9.74, standardhälve: 2.74\n"
     ]
    },
    {
     "data": {
      "image/png": "[encoded data removed]",
      "text/plain": [
       "<Figure size 1000x700 with 1 Axes>"
      ]
     },
     "metadata": {},
     "output_type": "display_data"
    }
   ],
   "source": [
    "# Keskmise osaletud praktikumide arvutamine\n",
    "\n",
    "dfcopy = df.copy()\n",
    "\n",
    "# Esimese praktikumi eest oli võimalik saada 1 punkt, aga teistes 0,5 punkti, seega asendatake esimese praktikumi punktisumma samuti 0,5-ga\n",
    "# Esimese praktikumi eest said kõik osalejad täpselt ühe punkti\n",
    "dfcopy[\"Ülesanne:1. praktikum (Punktid)\"] = dfcopy[\"Ülesanne:1. praktikum (Punktid)\"].replace(1, 0.5)\n",
    "\n",
    "# Eeldatakse, et kui üliõpilane saab praktikumis osalemise eest rohkem kui 0 punkti, siis järelikult ta osales\n",
    "praktikum_cols = dfcopy.filter(like='praktikum ').columns\n",
    "for col in praktikum_cols:\n",
    "    dfcopy[col] = dfcopy[col].map(lambda x: 0.5 if x != 0 and x != '-' else x)\n",
    "\n",
    "#Punktide summeerimine ühte tulpa, korrutatakse kahega, et saada iga praktikumi eest 1 punkt\n",
    "dfcopy[\"Praktikumid kokku\"] = dfcopy.filter(like='praktikum ').apply(pd.to_numeric, errors='coerce').sum(axis=1) *2\n",
    "tulp = 'Praktikumid kokku'\n",
    "dfcopy = dfcopy[['Sugu', tulp]].copy()\n",
    "\n",
    "print(\"Keskmine praktikumides osalemine\")\n",
    "print(\"\")\n",
    "\n",
    "# Tekstiväärtuste teisendamine numbriteks, puuduvate väärtuste eemaldamine\n",
    "dfcopy[tulp] = pd.to_numeric(dfcopy[tulp], errors='coerce')\n",
    "dfcopy.dropna(subset = [tulp], inplace=True)\n",
    "\n",
    "# Punktide sooline eraldamine\n",
    "punktid_M = dfcopy[dfcopy[\"Sugu\"] == \"M\"][tulp].astype(float)\n",
    "punktid_N = dfcopy[dfcopy[\"Sugu\"] == \"N\"][tulp].astype(float)\n",
    "\n",
    "# Mediaani, keskmise, standardhälve arvutamine\n",
    "print(f\"Mehed -  mediaan: {round(np.median(punktid_M), 2)}, keskmine: {round(np.mean(punktid_M), 2)}, standardhälve: {round(np.std(punktid_M), 2)}\")\n",
    "print(f\"Naised - mediaan: {round(np.median(punktid_N), 2)}, keskmine: {round(np.mean(punktid_N), 2)}, standardhälve: {round(np.std(punktid_N), 2)}\")\n",
    "\n",
    "# Tulemuste visualiseerimine karpdiagrammina\n",
    "fig = plt.figure(figsize =(10, 7))\n",
    "plt.boxplot([punktid_M, punktid_N], labels=[\"M\", \"N\"])\n",
    "\n",
    "# Joonise kuvamine\n",
    "plt.show()"
   ]
  },
  {
   "cell_type": "markdown",
   "id": "3c2924e2-30ae-4729-8646-ec4b01074cf4",
   "metadata": {},
   "source": [
    "Järgnevas koodiplokis vaadatakse erinevusi selle vahel, kui suur protsent naissoost ja meessoost üliõpilastest osales kindlas arvus praktikumides (nt ainult ühes, kahes, kolmes, jne praktikumis). "
   ]
  },
  {
   "cell_type": "code",
   "execution_count": 7,
   "id": "90a372f5-a0ce-4c08-a58a-d68ef40eb1c9",
   "metadata": {},
   "outputs": [
    {
     "name": "stdout",
     "output_type": "stream",
     "text": [
      "Iga praktikumi osalemiste puhul hii-ruut testi läbiviimine, et leida, kui kindlas arvus praktikumis osalemistel on statistiliselt oluline erinevus\n",
      "\n",
      "0 praktikumis osalemise puhul:\n",
      "Mehi osales 2 ehk 1.0 %\n",
      "Naisi osales 1 ehk 1.06 %\n",
      "\n",
      "2 praktikumis osalemise puhul:\n",
      "Mehi osales 5 ehk 2.5 %\n",
      "Naisi osales 1 ehk 1.06 %\n",
      "\n",
      "3 praktikumis osalemise puhul:\n",
      "Mehi osales 4 ehk 2.0 %\n",
      "Naisi osales 1 ehk 1.06 %\n",
      "\n",
      "4 praktikumis osalemise puhul:\n",
      "Mehi osales 8 ehk 4.0 %\n",
      "Naisi osales 4 ehk 4.26 %\n",
      "\n",
      "5 praktikumis osalemise puhul:\n",
      "Mehi osales 8 ehk 4.0 %\n",
      "Naisi osales 2 ehk 2.13 %\n",
      "\n",
      "6 praktikumis osalemise puhul:\n",
      "Mehi osales 10 ehk 5.0 %\n",
      "Naisi osales 6 ehk 6.38 %\n",
      "\n",
      "7 praktikumis osalemise puhul:\n",
      "Mehi osales 9 ehk 4.5 %\n",
      "Naisi osales 2 ehk 2.13 %\n",
      "\n",
      "8 praktikumis osalemise puhul:\n",
      "Mehi osales 12 ehk 6.0 %\n",
      "Naisi osales 4 ehk 4.26 %\n",
      "\n",
      "9 praktikumis osalemise puhul:\n",
      "Mehi osales 24 ehk 12.0 %\n",
      "Naisi osales 13 ehk 13.83 %\n",
      "\n",
      "10 praktikumis osalemise puhul:\n",
      "Mehi osales 33 ehk 16.5 %\n",
      "Naisi osales 11 ehk 11.7 %\n",
      "\n",
      "11 praktikumis osalemise puhul:\n",
      "Mehi osales 30 ehk 15.0 %\n",
      "Naisi osales 12 ehk 12.77 %\n",
      "\n",
      "12 praktikumis osalemise puhul:\n",
      "Mehi osales 48 ehk 24.0 %\n",
      "Naisi osales 37 ehk 39.36 %\n",
      "Hii-ruut: 6.61, p-value: 0.010 -> OLULINE ERINEVUS\n",
      "\n"
     ]
    },
    {
     "data": {
      "image/png": "[encoded data removed]",
      "text/plain": [
       "<Figure size 900x300 with 1 Axes>"
      ]
     },
     "metadata": {},
     "output_type": "display_data"
    }
   ],
   "source": [
    "# Praktikumides osalemine protsentuaalselt\n",
    "\n",
    "dfcopy = df.copy()\n",
    "\n",
    "# Sarnaselt eelmisele koodiplokile, tehakse kõik praktikumid võrdse kaaluga ja eeldatakse, et iga praktikum, \n",
    "# mille eest üliõpilane sai rohkem kui 0 punkti, on osaletud praktikum\n",
    "dfcopy[\"Ülesanne:1. praktikum (Punktid)\"] = dfcopy[\"Ülesanne:1. praktikum (Punktid)\"].replace(1, 0.5)\n",
    "\n",
    "praktikum_cols = dfcopy.filter(like='praktikum ').columns\n",
    "for col in praktikum_cols:\n",
    "    dfcopy[col] = dfcopy[col].apply(lambda x: 0.5 if x != 0 and x != '-' else 0)\n",
    "\n",
    "# Praktikumide arvu liitmine, kahega korrutamine, et saada osaluskordade arv\n",
    "dfcopy[\"Praktikumid kokku\"] = dfcopy.filter(like='praktikum ').apply(pd.to_numeric, errors='coerce').sum(axis=1) *2\n",
    "\n",
    "tulp = 'Praktikumid kokku'\n",
    "dfcopy = dfcopy[['Sugu', tulp]].copy()\n",
    "\n",
    "dfcopy[tulp] = pd.to_numeric(dfcopy[tulp], errors='coerce')\n",
    "dfcopy.dropna(subset = [tulp], inplace=True)\n",
    "\n",
    "# Soo põhjal esinemissageduse leidmine\n",
    "osalemised = dfcopy.groupby([tulp, \"Sugu\"]).size().unstack(fill_value=0)\n",
    "kokku = dfcopy[\"Sugu\"].value_counts()\n",
    "osalemisprotsent = osalemised.div(kokku, axis=1) * 100\n",
    "\n",
    "print(\"Iga praktikumi osalemiste puhul hii-ruut testi läbiviimine, et leida, kui kindlas arvus praktikumis osalemistel on statistiliselt oluline erinevus\")\n",
    "print(\"\")\n",
    "\n",
    "sagedustabel = pd.crosstab(dfcopy[tulp], dfcopy[\"Sugu\"])\n",
    "\n",
    "for arv in sagedustabel.index:\n",
    "    meestearv = sagedustabel[\"M\"].get(arv, 0)\n",
    "    naistearv = sagedustabel[\"N\"].get(arv, 0)\n",
    "\n",
    "    # Et vältida 0 väärtusega testimist\n",
    "    if(meestearv==0 or naistearv==0):\n",
    "        continue\n",
    "\n",
    "    # Hii-ruut test\n",
    "    stat, p, dof, expected = chi2_contingency([[meestearv, kokku[\"M\"] - meestearv],\n",
    "                                               [naistearv, kokku[\"N\"] - naistearv]])\n",
    "    print(f\"{arv:.0f} praktikumis osalemise puhul:\")\n",
    "    print(f\"Mehi osales {meestearv} ehk {round(meestearv / kokku['M'] * 100, 2)} %\")\n",
    "    print(f\"Naisi osales {naistearv} ehk {round(naistearv / kokku['N']*100, 2)} %\")\n",
    "    \n",
    "    if p <= 0.05:\n",
    "        \n",
    "        print(f\"Hii-ruut: {stat:.2f}, p-value: {p:.3f} -> OLULINE ERINEVUS\")\n",
    "\n",
    "    print(\"\")\n",
    "\n",
    "# Visualiseerimine joondiagrammina\n",
    "fig = plt.figure(figsize =(9, 3))\n",
    "plt.plot(osalemisprotsent.index, osalemisprotsent[\"M\"],  color = \"royalblue\", linestyle=\"solid\", label=\"Mehed\", lw=2)\n",
    "plt.plot(osalemisprotsent.index, osalemisprotsent[\"N\"],  color = \"palevioletred\", linestyle=\"solid\",  label=\"Naised\", lw=2)\n",
    "plt.legend()\n",
    "plt.xticks(range(13))\n",
    "plt.xlabel ('Kohalkäidud praktikumide arv')\n",
    "plt.gca().yaxis.set_major_formatter(FuncFormatter(lambda x, _: f\"{x:.0f}%\")) \n",
    "\n",
    "# Joonise kuvamine\n",
    "plt.show()"
   ]
  },
  {
   "cell_type": "markdown",
   "id": "9581cd30-058a-4bae-99f1-aebd039879aa",
   "metadata": {},
   "source": [
    "### Koduülesanded\n",
    "\n",
    "Koduülesannete lahendamise eest oli kokku võimalik saada 5,5 punki. Kokku oli 11 kodutööd, iga eest 0,5 punkti. "
   ]
  },
  {
   "cell_type": "code",
   "execution_count": 8,
   "id": "034612ea-82ba-49f7-a6c7-f0c05ba38883",
   "metadata": {},
   "outputs": [
    {
     "name": "stdout",
     "output_type": "stream",
     "text": [
      "Koduülesannete lahendamine\n",
      "\n",
      "Normaaljaotuse kontroll\n",
      "Shapiro-Wilk test p-value: 2.8625254835761005e-14\n",
      "Ei ole normaaljaotus\n",
      "\n",
      "Mehed -  mediaan: 4.2, keskmine: 3.77, standardhälve: 1.64\n",
      "Naised - mediaan: 4.4, keskmine: 3.89, standardhälve: 1.53\n",
      "\n",
      "Mann-Whitney test - U-stat: 9047.0 p-value: 0.604\n"
     ]
    },
    {
     "data": {
      "image/png": "[encoded data removed]",
      "text/plain": [
       "<Figure size 1000x700 with 1 Axes>"
      ]
     },
     "metadata": {},
     "output_type": "display_data"
    }
   ],
   "source": [
    "# Kodutööd\n",
    "\n",
    "dfcopy = df.copy()\n",
    "dfcopy[\"Kodutööd kokku\"] = dfcopy.filter(like='koduülesanded ').apply(pd.to_numeric, errors='coerce').sum(axis=1)\n",
    "tulp = 'Kodutööd kokku'\n",
    "dfcopy = dfcopy[['Sugu', tulp]].copy()\n",
    "\n",
    "print(\"Koduülesannete lahendamine\")\n",
    "print(\"\")\n",
    "\n",
    "# Tekstiväärtuste teisendamine numbriteks, puuduvate väärtuste eemaldamine\n",
    "dfcopy[tulp] = pd.to_numeric(dfcopy[tulp], errors='coerce')\n",
    "dfcopy.dropna(subset = [tulp], inplace=True)\n",
    "\n",
    "# Kontroll, kas andmed on normaaljaotusega (Shapiro-Wilk test)\n",
    "print(\"Normaaljaotuse kontroll\")\n",
    "statistic, pvalue = shapiro(dfcopy[tulp])\n",
    "\n",
    "print(\"Shapiro-Wilk test p-value:\", pvalue)\n",
    "if(pvalue < 0.05):\n",
    "    print(\"Ei ole normaaljaotus\")\n",
    "else:\n",
    "    print(\"On normaaljaotus\")\n",
    "\n",
    "print(\"\")\n",
    "\n",
    "# Punktide sooline eraldamine\n",
    "punktid_M = dfcopy[dfcopy[\"Sugu\"] == \"M\"][tulp].astype(float)\n",
    "punktid_N = dfcopy[dfcopy[\"Sugu\"] == \"N\"][tulp].astype(float)\n",
    "\n",
    "# Mediaani, keskmise, standardhälve arvutamine\n",
    "print(f\"Mehed -  mediaan: {round(np.median(punktid_M), 2)}, keskmine: {round(np.mean(punktid_M), 2)}, standardhälve: {round(np.std(punktid_M), 2)}\")\n",
    "print(f\"Naised - mediaan: {round(np.median(punktid_N), 2)}, keskmine: {round(np.mean(punktid_N), 2)}, standardhälve: {round(np.std(punktid_N), 2)}\")\n",
    "\n",
    "print(\"\")\n",
    "\n",
    "# Soolise erinevuse test - Mann-Whitney U test\n",
    "stat, pvalue = mannwhitneyu(punktid_M, punktid_N)\n",
    "print(\"Mann-Whitney test - U-stat:\", round(stat, 1), \"p-value:\", round(pvalue, 3))\n",
    "if (pvalue < 0.05):\n",
    "    print(\"      Mann-Whitney U-testi järgi statistiliselt oluline erinevus, olulisusnivoo 0.05\")\n",
    "\n",
    "# Tulemuste visualiseerimine karpdiagrammina\n",
    "fig = plt.figure(figsize =(10, 7))\n",
    "plt.boxplot([punktid_M, punktid_N], labels=[\"M\", \"N\"])\n",
    "\n",
    "# Joonise kuvamine\n",
    "plt.show()"
   ]
  },
  {
   "cell_type": "markdown",
   "id": "8359fcf8-ab07-4f93-8031-6a00bec3e978",
   "metadata": {},
   "source": [
    "### Esimene kontrolltöö\n",
    "\n",
    "Esimene kontrolltöö võtmata arvesse lisapunkti, mille jaoks üliõpilased soovi korral kontrolltöö analüüsi esitada said. Maksimaalselt oli võimalik kontrolltöös saada 16 punkti."
   ]
  },
  {
   "cell_type": "code",
   "execution_count": 9,
   "id": "cc770078-71a0-423d-8ce3-07b3c0b8a3c7",
   "metadata": {},
   "outputs": [
    {
     "name": "stdout",
     "output_type": "stream",
     "text": [
      "Esimene kontrolltöö ilma kontrolltöö analüüsi lisapunktita\n",
      "\n",
      "Normaaljaotuse kontroll\n",
      "Shapiro-Wilk test p-value: 1.5795489425552281e-19\n",
      "Ei ole normaaljaotus\n",
      "\n",
      "Kontrolltöö teinud meeste arv 185 ja protsent 92.5\n",
      "Kontrolltöö teinud naiste arv 91 ja protsent 96.81\n",
      "Hii-ruut: 1.38, p-value: 0.239\n",
      "\n",
      "Mehed -  mediaan: 15.3, keskmine: 14.81, standardhälve: 1.55\n",
      "Naised - mediaan: 14.95, keskmine: 14.36, standardhälve: 1.55\n",
      "\n",
      "Mann-Whitney test - U-stat: 10401.5 p-value: 0.001\n",
      "      Mann-Whitney U-testi järgi statistiliselt oluline erinevus, olulisusnivoo 0.05\n"
     ]
    },
    {
     "data": {
      "image/png": "[encoded data removed]",
      "text/plain": [
       "<Figure size 1000x700 with 1 Axes>"
      ]
     },
     "metadata": {},
     "output_type": "display_data"
    }
   ],
   "source": [
    "# Kontrolltöö 1 kokku\n",
    "tulp = 'Kontrolltöö 1 kokku (Punktid)'\n",
    "dfcopy = df[['Sugu', tulp]].copy()\n",
    "\n",
    "# Algne meeste ja naiste arv andmestikus\n",
    "kokkumehi = (dfcopy[\"Sugu\"] == \"M\").sum()\n",
    "kokkunaisi = (dfcopy[\"Sugu\"] == \"N\").sum()\n",
    "\n",
    "print(\"Esimene kontrolltöö ilma kontrolltöö analüüsi lisapunktita\")\n",
    "print(\"\")\n",
    "\n",
    "# Tekstiväärtuste teisendamine numbriteks, puuduvate väärtuste eemaldamine\n",
    "dfcopy[tulp] = pd.to_numeric(dfcopy[tulp], errors='coerce')\n",
    "dfcopy.dropna(subset = [tulp], inplace=True)\n",
    "\n",
    "# Kontroll, kas andmed on normaaljaotusega (Shapiro-Wilk test)\n",
    "print(\"Normaaljaotuse kontroll\")\n",
    "statistic, pvalue = shapiro(dfcopy[tulp])\n",
    "\n",
    "print(\"Shapiro-Wilk test p-value:\", pvalue)\n",
    "if(pvalue < 0.05):\n",
    "    print(\"Ei ole normaaljaotus\")\n",
    "else:\n",
    "    print(\"On normaaljaotus\")\n",
    "\n",
    "print(\"\")\n",
    "\n",
    "# Kontrolltöö või kontrolltöö järeltöö sooritanute arv\n",
    "meestearv = (dfcopy[\"Sugu\"] == \"M\").sum()\n",
    "naistearv = (dfcopy[\"Sugu\"] == \"N\").sum()\n",
    "\n",
    "print(\"Kontrolltöö teinud meeste arv\", meestearv, \"ja protsent\", round(meestearv/kokkumehi*100, 2))\n",
    "print(\"Kontrolltöö teinud naiste arv\", naistearv, \"ja protsent\", round(naistearv/kokkunaisi*100, 2))\n",
    "\n",
    "# Hii-ruut test, et vaadata, kas osalenute arvus oli statistiliselt oluline sooline erinevus\n",
    "stat, p, dof, expected = chi2_contingency([[meestearv, naistearv],\n",
    "                                           [kokkumehi - meestearv, kokkunaisi - naistearv]])\n",
    "print(f\"Hii-ruut: {stat:.2f}, p-value: {p:.3f}\")\n",
    "if p <= 0.05:    \n",
    "        print(\"OLULINE ERINEVUS\")\n",
    "\n",
    "print(\"\")\n",
    "\n",
    "# Punktide sooline eraldamine\n",
    "punktid_M = dfcopy[dfcopy[\"Sugu\"] == \"M\"][tulp].astype(float)\n",
    "punktid_N = dfcopy[dfcopy[\"Sugu\"] == \"N\"][tulp].astype(float)\n",
    "\n",
    "# Mediaani, keskmise, standardhälve arvutamine\n",
    "print(f\"Mehed -  mediaan: {round(np.median(punktid_M), 2)}, keskmine: {round(np.mean(punktid_M), 2)}, standardhälve: {round(np.std(punktid_M), 2)}\")\n",
    "print(f\"Naised - mediaan: {round(np.median(punktid_N), 2)}, keskmine: {round(np.mean(punktid_N), 2)}, standardhälve: {round(np.std(punktid_N), 2)}\")\n",
    "\n",
    "print(\"\")\n",
    "\n",
    "# Soolise erinevuse test - Mann-Whitney U test\n",
    "stat, pvalue = mannwhitneyu(punktid_M, punktid_N)\n",
    "print(\"Mann-Whitney test - U-stat:\", round(stat, 1), \"p-value:\", round(pvalue, 3))\n",
    "if (pvalue < 0.05):\n",
    "    print(\"      Mann-Whitney U-testi järgi statistiliselt oluline erinevus, olulisusnivoo 0.05\")\n",
    "\n",
    "# Tulemuste visualiseerimine karpdiagrammina\n",
    "fig = plt.figure(figsize =(10, 7))\n",
    "plt.boxplot([punktid_M, punktid_N], labels=[\"M\", \"N\"])\n",
    "\n",
    "# Joonise kuvamine\n",
    "plt.show()"
   ]
  },
  {
   "cell_type": "markdown",
   "id": "52841096-0a6f-42d5-bd0d-5cb4dfac49cf",
   "metadata": {},
   "source": [
    "### Analüüsist saadav lisapunkt\n",
    "\n",
    "Uuritakse, kas on erinevusi selle puhul, kuidas mehed ja naised erinevate kontrolltööst saadud punktisummadega kontrolltöö analüüsi esitasid "
   ]
  },
  {
   "cell_type": "code",
   "execution_count": 10,
   "id": "6c2264fa-76dd-4ef9-9c6c-8733835f5ba2",
   "metadata": {},
   "outputs": [],
   "source": [
    "# Kontrolltöö punktidest kategooriatesse jagamine\n",
    "def analüüsipunkt(punktiarv):\n",
    "    if punktiarv == 16:\n",
    "        return 'max'\n",
    "    elif punktiarv >=15:\n",
    "        return 'kuni punkt puudu max'\n",
    "    elif punktiarv >=12:\n",
    "        return 'lävend ületatud'\n",
    "    elif punktiarv >=11: \n",
    "        return 'kuni punkt puudu lävendist'\n",
    "    else:\n",
    "        return 'ei ületa lävendit'"
   ]
  },
  {
   "cell_type": "markdown",
   "id": "9219e76d-ca33-4e94-8ea4-244e21737e0e",
   "metadata": {},
   "source": [
    "Järgmises koodiplokis on eraldatud kategooriatesse kontrolltöö algse sooritamise punktid ülemise funktsiooni analüüsipunkt abil. Neile, kes sooritasid ainult kontrolltöö järeltööd, kuid mitte algset kontrolltööd, on antud eraldi kategooria. "
   ]
  },
  {
   "cell_type": "code",
   "execution_count": 11,
   "id": "ee949090",
   "metadata": {},
   "outputs": [],
   "source": [
    "# Eraldatud kontrolltöö ja järeltöö\n",
    "\n",
    "tulp1 = 'VPL harjutus:Kontrolltöö nr 1 (Transport) (Punktid)'\n",
    "tulp2 = 'VPL harjutus:Kontrolltöö nr 1 (Ehted) (Punktid)'\n",
    "tulp = 'Kontrolltöö 1 algne sooritus'\n",
    "\n",
    "järeltöötulp = 'VPL harjutus:Kontrolltöö nr 1 (järeltöö 29.05) (Punktid)'\n",
    "järeltöötulp2 = 'VPL harjutus:Korduseksamieelne 1. kontrolltöö järeltöö (17.06) (Punktid)'\n",
    "järeltöötulp3 = 'VPL harjutus:Kontrolltöö nr 1 järeltöö (Restoran) (Punktid)'\n",
    "\n",
    "dfcopy = df[['Sugu', tulp1, tulp2, järeltöötulp, järeltöötulp2, järeltöötulp3, 'Kontrolltöö analüüs kokku (Punktid)']].copy()\n",
    "\n",
    "# Eemaldatud üliõpilased, kes ei teinud ei esimest kontrolltööd ega selle järeltööd\n",
    "tühjadread = (dfcopy[tulp1] == \"-\") & (dfcopy[tulp2] == \"-\") & (dfcopy[järeltöötulp] == \"-\") & (dfcopy[järeltöötulp2] == \"-\")& (dfcopy[järeltöötulp3] == \"-\")\n",
    "\n",
    "dfcopy = dfcopy[~tühjadread]\n",
    "\n",
    "dfcopy[\"Punktide kategooria\"] = None\n",
    "\n",
    "# Eraldatud kategooriasse need, kes sooritasid ainult järeltöö\n",
    "dfcopy.loc[(dfcopy[tulp1] == \"-\") & (dfcopy[tulp2] == \"-\"), \"Punktide kategooria\"] = \"Sooritasid ainult järeltöö\"\n",
    "\n",
    "dfcopy[[tulp1, tulp2]] = dfcopy[[tulp1, tulp2]].replace(\"-\", pd.NA)\n",
    "# Kombineerime kontrolltöö algse katse tulbad, võttes mitte-tühja väärtuse\n",
    "dfcopy[tulp] = dfcopy[tulp1].fillna(dfcopy[tulp2])\n",
    "\n",
    "# Neile, kes ei teinud ainult järeltööd, ehk kes sooritasid ka kontrolltöö algset katset, punktikategooria määramine funktsiooni analüüsipunkt abil\n",
    "tühjadread = dfcopy[\"Punktide kategooria\"].isna()\n",
    "dfcopy.loc[tühjadread, \"Punktide kategooria\"] = dfcopy.loc[tühjadread, tulp].apply(analüüsipunkt)\n",
    "\n",
    "# Määrab, kas üliõpilane esitas kontrolltöö analüüsi\n",
    "dfcopy[\"Esitas kontrolltöö analüüsi\"] = dfcopy['Kontrolltöö analüüs kokku (Punktid)'].apply(lambda x: \"Jah\" if x != \"-\" else \"Ei\")\n"
   ]
  },
  {
   "cell_type": "markdown",
   "id": "67d8d9d9-8060-4340-89fb-c1c2cd7932b8",
   "metadata": {},
   "source": [
    "Kontrolltöö analüüsi esitanud meeste ja naiste sagedused ja hii-ruut test, et leida, kas analüüsi üldisel esitamisel on statistiliselt oluline erinevus"
   ]
  },
  {
   "cell_type": "code",
   "execution_count": 12,
   "id": "30b83a54-69d6-4e74-b042-e4392369e1f4",
   "metadata": {},
   "outputs": [
    {
     "name": "stdout",
     "output_type": "stream",
     "text": [
      "Esitas kontrolltöö analüüsi            Ei       Jah\n",
      "Sugu Punktide kategooria                           \n",
      "M    Sooritasid ainult järeltöö  1.000000       NaN\n",
      "     ei ületa lävendit           0.666667  0.333333\n",
      "     kuni punkt puudu lävendist  0.500000  0.500000\n",
      "     kuni punkt puudu max        0.793103  0.206897\n",
      "     lävend ületatud             0.815789  0.184211\n",
      "     max                         1.000000       NaN\n",
      "N    Sooritasid ainult järeltöö  0.777778  0.222222\n",
      "     ei ületa lävendit           0.750000  0.250000\n",
      "     kuni punkt puudu lävendist  0.833333  0.166667\n",
      "     kuni punkt puudu max        0.750000  0.250000\n",
      "     lävend ületatud             0.739130  0.260870\n",
      "     max                         1.000000       NaN\n",
      "\n",
      "Sugu                           M   N\n",
      "Esitas kontrolltöö analüüsi         \n",
      "Ei                           153  71\n",
      "Jah                           32  20\n",
      "Hii-ruut: 0.59, p-value: 0.441\n"
     ]
    }
   ],
   "source": [
    "# Sageduste kokkuvõte\n",
    "kokkuvõte = dfcopy.groupby(['Sugu', \"Punktide kategooria\"])['Esitas kontrolltöö analüüsi'].value_counts(normalize=True).unstack()\n",
    "print(kokkuvõte)\n",
    "print (\"\")\n",
    "\n",
    "# Hii-ruut test kontrolltöö analüüsi esitanute ja soo vahel\n",
    "kokku = dfcopy[\"Sugu\"].value_counts()\n",
    "sagedustabel_kat = pd.crosstab(dfcopy['Esitas kontrolltöö analüüsi'], dfcopy[\"Sugu\"])\n",
    "\n",
    "print(sagedustabel_kat)\n",
    "\n",
    "stat, p, dof, expected = chi2_contingency(sagedustabel_kat)\n",
    "    \n",
    "print(f\"Hii-ruut: {stat:.2f}, p-value: {p:.3f}\")\n",
    "if p <= 0.05:    \n",
    "        print(\"OLULINE ERINEVUS\")    "
   ]
  },
  {
   "cell_type": "markdown",
   "id": "069d27b1-aabd-4dcd-a88d-951fd262b6d3",
   "metadata": {},
   "source": [
    "Hii-ruut test, et vaadata, kas punktikategooriatesse jaotumises tekib statistiliselt oluline erinevus"
   ]
  },
  {
   "cell_type": "code",
   "execution_count": 13,
   "id": "fe014133-1cec-4bb6-954b-274f82c99030",
   "metadata": {},
   "outputs": [
    {
     "name": "stdout",
     "output_type": "stream",
     "text": [
      "Mehed ja naised vastavas punktikategoorias\n",
      "Sugu                         M   N\n",
      "Punktide kategooria               \n",
      "Sooritasid ainult järeltöö   8   9\n",
      "ei ületa lävendit           27  12\n",
      "kuni punkt puudu lävendist   8   6\n",
      "kuni punkt puudu max        58  32\n",
      "lävend ületatud             38  23\n",
      "max                         46   9\n",
      "\n",
      "Meeste ja naiste protsentuaalne jaotus punktikategooriatesse\n",
      "Sugu                                M          N\n",
      "Punktide kategooria                             \n",
      "Sooritasid ainult järeltöö   4.324324   9.890110\n",
      "ei ületa lävendit           14.594595  13.186813\n",
      "kuni punkt puudu lävendist   4.324324   6.593407\n",
      "kuni punkt puudu max        31.351351  35.164835\n",
      "lävend ületatud             20.540541  25.274725\n",
      "max                         24.864865   9.890110\n",
      "\n",
      "Hii-ruut: 11.53, p-value: 0.042\n",
      "OLULINE ERINEVUS\n",
      "\n",
      "Oodatud väärtused:\n",
      "[[11.39492754  5.60507246]\n",
      " [26.14130435 12.85869565]\n",
      " [ 9.38405797  4.61594203]\n",
      " [60.32608696 29.67391304]\n",
      " [40.88768116 20.11231884]\n",
      " [36.86594203 18.13405797]]\n"
     ]
    }
   ],
   "source": [
    "# Vastavas punktikategoorias olev meeste ja naiste arv\n",
    "print(\"Mehed ja naised vastavas punktikategoorias\")\n",
    "sagedustabel = pd.crosstab(dfcopy[\"Punktide kategooria\"], dfcopy[\"Sugu\"])\n",
    "\n",
    "print(sagedustabel)\n",
    "\n",
    "print (\"\")\n",
    "print(\"Meeste ja naiste protsentuaalne jaotus punktikategooriatesse\") \n",
    "#Prontsentides jaotus\n",
    "loendur = dfcopy.groupby([\"Punktide kategooria\", \"Sugu\"]).size().unstack(fill_value=0)\n",
    "protsent = loendur.div(kokku, axis=1) * 100\n",
    "\n",
    "print(protsent)\n",
    "\n",
    "print(\"\")\n",
    "\n",
    "# Hii-ruut test, kas leidub statistiliselt oluline erinevus vastavas punktikategoorias meeste ja naiste vahel\n",
    "stat, p, dof, expected = chi2_contingency(sagedustabel)\n",
    "    \n",
    "print(f\"Hii-ruut: {stat:.2f}, p-value: {p:.3f}\")\n",
    "if p <= 0.05:    \n",
    "        print(\"OLULINE ERINEVUS\") \n",
    "print(\"\")\n",
    "print(\"Oodatud väärtused:\")\n",
    "print(expected)\n"
   ]
  },
  {
   "cell_type": "markdown",
   "id": "773fb608-002a-4a21-b167-eedc2092b031",
   "metadata": {},
   "source": [
    "Hii-ruut testi järgi punktikategooriatesse jaotumisel oluline erinevus, järgmises koodiblokis vaadatakse iga kategooria puhul eraldi hii-ruut testi abil, kas on statistiliselt oluline sooline erinevus "
   ]
  },
  {
   "cell_type": "code",
   "execution_count": 14,
   "id": "df5c3b84-47e3-4015-8134-0bf3e9ada687",
   "metadata": {},
   "outputs": [
    {
     "name": "stdout",
     "output_type": "stream",
     "text": [
      "Sooritasid ainult järeltöö\n",
      "Hii-ruut: 2.38, p-value: 0.123\n",
      "\n",
      "ei ületa lävendit\n",
      "Hii-ruut: 0.02, p-value: 0.895\n",
      "\n",
      "kuni punkt puudu lävendist\n",
      "Hii-ruut: 0.27, p-value: 0.606\n",
      "\n",
      "kuni punkt puudu max\n",
      "Hii-ruut: 0.25, p-value: 0.618\n",
      "\n",
      "lävend ületatud\n",
      "Hii-ruut: 0.54, p-value: 0.461\n",
      "\n",
      "max\n",
      "Hii-ruut: 7.66, p-value: 0.006\n",
      "OLULINE ERINEVUS\n",
      "\n"
     ]
    }
   ],
   "source": [
    "for kategooria in sagedustabel.index:\n",
    "    meestearv = sagedustabel[\"M\"].get(kategooria, 0)\n",
    "    naistearv = sagedustabel[\"N\"].get(kategooria, 0)\n",
    "    if(meestearv==0 or naistearv==0):\n",
    "        continue\n",
    "    stat, p, dof, expected = chi2_contingency([[meestearv, kokku[\"M\"] - meestearv],\n",
    "                                               [naistearv, kokku[\"N\"] - naistearv]])\n",
    "    print(kategooria)\n",
    "    print(f\"Hii-ruut: {stat:.2f}, p-value: {p:.3f}\")\n",
    "    if p <= 0.05:    \n",
    "        print(\"OLULINE ERINEVUS\") \n",
    "    print(\"\")\n"
   ]
  },
  {
   "cell_type": "markdown",
   "id": "003b8c6f-2414-4ee8-806f-70938a43f39c",
   "metadata": {},
   "source": [
    "Kontrolltöö analüüsi esitamine punktikategooria põhjal ja vastav hii-ruut test, et kontrollida soolist erinevust"
   ]
  },
  {
   "cell_type": "code",
   "execution_count": 15,
   "id": "da82cc59-8145-4ce5-9427-69f0d9642fa5",
   "metadata": {},
   "outputs": [
    {
     "name": "stdout",
     "output_type": "stream",
     "text": [
      "Sooritasid ainult järeltöö\n",
      "Sugu                         M  N\n",
      "Esitas kontrolltöö analüüsi      \n",
      "Ei                           8  7\n",
      "Jah                          0  2\n",
      "\n",
      "Hii-ruut: 0.44, p-value: 0.506\n",
      "--------------------------\n",
      "ei ületa lävendit\n",
      "Sugu                          M  N\n",
      "Esitas kontrolltöö analüüsi       \n",
      "Ei                           18  9\n",
      "Jah                           9  3\n",
      "\n",
      "Hii-ruut: 0.02, p-value: 0.885\n",
      "--------------------------\n",
      "kuni punkt puudu lävendist\n",
      "Sugu                         M  N\n",
      "Esitas kontrolltöö analüüsi      \n",
      "Ei                           4  5\n",
      "Jah                          4  1\n",
      "\n",
      "Hii-ruut: 0.53, p-value: 0.469\n",
      "--------------------------\n",
      "lävend ületatud\n",
      "Sugu                          M   N\n",
      "Esitas kontrolltöö analüüsi        \n",
      "Ei                           31  17\n",
      "Jah                           7   6\n",
      "\n",
      "Hii-ruut: 0.15, p-value: 0.699\n",
      "--------------------------\n",
      "kuni punkt puudu max\n",
      "Sugu                          M   N\n",
      "Esitas kontrolltöö analüüsi        \n",
      "Ei                           46  24\n",
      "Jah                          12   8\n",
      "\n",
      "Hii-ruut: 0.04, p-value: 0.837\n",
      "--------------------------\n"
     ]
    }
   ],
   "source": [
    "for kategooria in [\"Sooritasid ainult järeltöö\", \"ei ületa lävendit\", \"kuni punkt puudu lävendist\", \"lävend ületatud\", \"kuni punkt puudu max\"]:\n",
    "    print(kategooria)\n",
    "    dfcopy_kat = dfcopy[dfcopy[\"Punktide kategooria\"] ==kategooria]\n",
    "    sagedustabel_kat = pd.crosstab(dfcopy_kat['Esitas kontrolltöö analüüsi'], dfcopy_kat[\"Sugu\"])\n",
    "\n",
    "    kokku = dfcopy_kat[\"Sugu\"].value_counts()\n",
    "    print(sagedustabel_kat)\n",
    "    print(\"\")\n",
    "    \n",
    "    stat, p, dof, expected = chi2_contingency(sagedustabel_kat, correction=True)\n",
    "    \n",
    "    print(f\"Hii-ruut: {stat:.2f}, p-value: {p:.3f}\")\n",
    "    if p <= 0.05:    \n",
    "        print(\"OLULINE ERINEVUS\") \n",
    "    \n",
    "    print (\"--------------------------\")\n",
    "        "
   ]
  },
  {
   "cell_type": "markdown",
   "id": "69f35bf4-c0ee-4852-87a3-3525520200fa",
   "metadata": {},
   "source": [
    "Esimese kontrolltöö analüüsi tulemuste punktijaotus"
   ]
  },
  {
   "cell_type": "code",
   "execution_count": 16,
   "id": "66a64f27-facf-402c-a05c-859e13753d1b",
   "metadata": {},
   "outputs": [
    {
     "name": "stdout",
     "output_type": "stream",
     "text": [
      "Kontrolltöö analüüsi tulemus\n",
      "\n",
      "Normaaljaotuse kontroll\n",
      "Shapiro-Wilk test p-value: 4.157213462363529e-11\n",
      "Ei ole normaaljaotus\n",
      "\n",
      "Mehed -  mediaan: 1.0, keskmine: 0.85, standardhälve: 0.26\n",
      "Naised - mediaan: 1.0, keskmine: 0.92, standardhälve: 0.18\n",
      "\n",
      "Mann-Whitney test - U-stat: 259.0 p-value: 0.184\n"
     ]
    },
    {
     "data": {
      "image/png": "[encoded data removed]",
      "text/plain": [
       "<Figure size 1000x700 with 1 Axes>"
      ]
     },
     "metadata": {},
     "output_type": "display_data"
    }
   ],
   "source": [
    "# Kontrolltöö 1 analüüsist saadav lisapunkt\n",
    "\n",
    "tulp = 'Kontrolltöö analüüs kokku (Punktid)'\n",
    "dfcopy = df[['Sugu', tulp]].copy()\n",
    "\n",
    "print(\"Kontrolltöö analüüsi tulemus\")\n",
    "print(\"\")\n",
    "\n",
    "# Tekstiväärtuste teisendamine numbriteks, puuduvate väärtuste eemaldamine\n",
    "dfcopy[tulp] = pd.to_numeric(dfcopy[tulp], errors='coerce')\n",
    "dfcopy.dropna(subset = [tulp], inplace=True)\n",
    "\n",
    "# Kontroll, kas andmed on normaaljaotusega (Shapiro-Wilk test)\n",
    "print(\"Normaaljaotuse kontroll\")\n",
    "statistic, pvalue = shapiro(dfcopy[tulp])\n",
    "\n",
    "print(\"Shapiro-Wilk test p-value:\", pvalue)\n",
    "if(pvalue < 0.05):\n",
    "    print(\"Ei ole normaaljaotus\")\n",
    "else:\n",
    "    print(\"On normaaljaotus\")\n",
    "\n",
    "print(\"\")\n",
    "\n",
    "# Punktide sooline eraldamine\n",
    "punktid_M = dfcopy[dfcopy[\"Sugu\"] == \"M\"][tulp].astype(float)\n",
    "punktid_N = dfcopy[dfcopy[\"Sugu\"] == \"N\"][tulp].astype(float)\n",
    "\n",
    "# Mediaani, keskmise, standardhälve arvutamine\n",
    "print(f\"Mehed -  mediaan: {round(np.median(punktid_M), 2)}, keskmine: {round(np.mean(punktid_M), 2)}, standardhälve: {round(np.std(punktid_M), 2)}\")\n",
    "print(f\"Naised - mediaan: {round(np.median(punktid_N), 2)}, keskmine: {round(np.mean(punktid_N), 2)}, standardhälve: {round(np.std(punktid_N), 2)}\")\n",
    "\n",
    "print(\"\")\n",
    "\n",
    "# Soolise erinevuse test - Mann-Whitney U test\n",
    "stat, pvalue = mannwhitneyu(punktid_M, punktid_N)\n",
    "print(\"Mann-Whitney test - U-stat:\", round(stat, 1), \"p-value:\", round(pvalue, 3))\n",
    "if (pvalue < 0.05):\n",
    "    print(\"      Mann-Whitney U-testi järgi statistiliselt oluline erinevus, olulisusnivoo 0.05\")\n",
    "\n",
    "# Tulemuste visualiseerimine karpdiagrammina\n",
    "fig = plt.figure(figsize =(10, 7))\n",
    "plt.boxplot([punktid_M, punktid_N], labels=[\"M\", \"N\"])\n",
    "\n",
    "# Joonise kuvamine\n",
    "plt.show()"
   ]
  },
  {
   "cell_type": "markdown",
   "id": "e2a6d58b-d0cf-4567-ac3a-ee8533cd91ca",
   "metadata": {},
   "source": [
    "### Esimese kontrolltöö lõplikud punktid"
   ]
  },
  {
   "cell_type": "code",
   "execution_count": 17,
   "id": "ec8dd3d7-d348-4cb4-98e5-b1b8f0268c9b",
   "metadata": {},
   "outputs": [
    {
     "name": "stdout",
     "output_type": "stream",
     "text": [
      "Esimese kontrolltöö lõplikud punktid\n",
      "\n",
      "Normaaljaotuse kontroll\n",
      "Shapiro-Wilk test p-value: 1.1055353705095744e-20\n",
      "Ei ole normaaljaotus\n",
      "\n",
      "Mehed -  mediaan: 15.5, keskmine: 14.94, standardhälve: 1.52\n",
      "Naised - mediaan: 15.0, keskmine: 14.54, standardhälve: 1.57\n",
      "\n",
      "Mann-Whitney test - U-stat: 10152.5 p-value: 0.005\n",
      "      Mann-Whitney U-testi järgi statistiliselt oluline erinevus, olulisusnivoo 0.05\n",
      "\n",
      "Hii-ruut test kontrolltöö lõplike tulemuste maksimumpunktide saanute puhul\n",
      "Maksimumpunktid saanud meeste arv 60 ja protsent 32.43\n",
      "Maksimumpunktid saanud naiste arv 17 ja protsent 18.68\n",
      "Hii-ruut: 5.07, p-value: 0.024\n",
      "OLULINE ERINEVUS\n"
     ]
    },
    {
     "data": {
      "image/png": "[encoded data removed]",
      "text/plain": [
       "<Figure size 1000x700 with 1 Axes>"
      ]
     },
     "metadata": {},
     "output_type": "display_data"
    }
   ],
   "source": [
    "# Kontrolltöö 1 + analüüs kokku \n",
    "tulp = 'Kontrolltöö 1 + analüüs kokku (Punktid)'\n",
    "dfcopy = df[['Sugu', tulp]].copy()\n",
    "\n",
    "print(\"Esimese kontrolltöö lõplikud punktid\")\n",
    "print(\"\")\n",
    "\n",
    "# Tekstiväärtuste teisendamine numbriteks, puuduvate väärtuste eemaldamine\n",
    "dfcopy[tulp] = pd.to_numeric(dfcopy[tulp], errors='coerce')\n",
    "dfcopy.dropna(subset = [tulp], inplace=True)\n",
    "\n",
    "# Kontroll, kas andmed on normaaljaotusega (Shapiro-Wilk test)\n",
    "print(\"Normaaljaotuse kontroll\")\n",
    "statistic, pvalue = shapiro(dfcopy[tulp])\n",
    "\n",
    "print(\"Shapiro-Wilk test p-value:\", pvalue)\n",
    "if(pvalue < 0.05):\n",
    "    print(\"Ei ole normaaljaotus\")\n",
    "else:\n",
    "    print(\"On normaaljaotus\")\n",
    "\n",
    "print(\"\")\n",
    "\n",
    "# Punktide sooline eraldamine\n",
    "punktid_M = dfcopy[dfcopy[\"Sugu\"] == \"M\"][tulp].astype(float)\n",
    "punktid_N = dfcopy[dfcopy[\"Sugu\"] == \"N\"][tulp].astype(float)\n",
    "\n",
    "# Mediaani, keskmise, standardhälve arvutamine\n",
    "print(f\"Mehed -  mediaan: {round(np.median(punktid_M), 2)}, keskmine: {round(np.mean(punktid_M), 2)}, standardhälve: {round(np.std(punktid_M), 2)}\")\n",
    "print(f\"Naised - mediaan: {round(np.median(punktid_N), 2)}, keskmine: {round(np.mean(punktid_N), 2)}, standardhälve: {round(np.std(punktid_N), 2)}\")\n",
    "\n",
    "print(\"\")\n",
    "\n",
    "# Soolise erinevuse test - Mann-Whitney U test\n",
    "stat, pvalue = mannwhitneyu(punktid_M, punktid_N)\n",
    "print(\"Mann-Whitney test - U-stat:\", round(stat, 1), \"p-value:\", round(pvalue, 3))\n",
    "if (pvalue < 0.05):\n",
    "    print(\"      Mann-Whitney U-testi järgi statistiliselt oluline erinevus, olulisusnivoo 0.05\")\n",
    "\n",
    "print(\"\")\n",
    "# Kas maksimumpunktide vahel endiselt statistiliselt oluline sooline erinevus ja mil määral?\n",
    "dfcopy[\"Punktide kategooria\"] = dfcopy[tulp].apply(analüüsipunkt)\n",
    "\n",
    "kokkumehi = (dfcopy[\"Sugu\"] == \"M\").sum()\n",
    "kokkunaisi = (dfcopy[\"Sugu\"] == \"N\").sum()\n",
    "\n",
    "meestearv = ((dfcopy[\"Sugu\"] == \"M\") & (dfcopy[\"Punktide kategooria\"]==\"max\")).sum()\n",
    "naistearv = ((dfcopy[\"Sugu\"] == \"N\")& (dfcopy[\"Punktide kategooria\"]==\"max\")).sum()\n",
    "\n",
    "print(\"Hii-ruut test kontrolltöö lõplike tulemuste maksimumpunktide saanute puhul\")\n",
    "print(\"Maksimumpunktid saanud meeste arv\", meestearv, \"ja protsent\", round(meestearv/kokkumehi*100, 2))\n",
    "print(\"Maksimumpunktid saanud naiste arv\", naistearv, \"ja protsent\", round(naistearv/kokkunaisi*100, 2))\n",
    "\n",
    "stat, p, dof, expected = chi2_contingency([[meestearv, naistearv],\n",
    "                                           [kokkumehi - meestearv, kokkunaisi - naistearv]], correction=True)\n",
    "print(f\"Hii-ruut: {stat:.2f}, p-value: {p:.3f}\")\n",
    "if p <= 0.05:    \n",
    "    print(\"OLULINE ERINEVUS\") \n",
    "\n",
    "# Tulemuste visualiseerimine karpdiagrammina\n",
    "fig = plt.figure(figsize =(10, 7))\n",
    "plt.boxplot([punktid_M, punktid_N], labels=[\"M\", \"N\"])\n",
    "\n",
    "# Joonise kuvamine\n",
    "plt.show()"
   ]
  },
  {
   "cell_type": "markdown",
   "id": "6a4fcada-9aba-41c4-a666-d14a24291962",
   "metadata": {},
   "source": [
    "### Teine kontrolltöö\n",
    "\n",
    "Teine kontrolltöö võtmata arvesse lisapunkti, mille jaoks üliõpilased soovi korral kontrolltöö analüüsi esitada said. Maksimaalselt oli võimalik kontrolltöös saada 16 punkti."
   ]
  },
  {
   "cell_type": "code",
   "execution_count": 18,
   "id": "47bf5708-e1e6-476e-88b0-f8d9b84fbdf4",
   "metadata": {},
   "outputs": [
    {
     "name": "stdout",
     "output_type": "stream",
     "text": [
      "Teine kontrolltöö ilma kontrolltöö analüüsi lisapunktita\n",
      "\n",
      "Normaaljaotuse kontroll\n",
      "Shapiro-Wilk test p-value: 2.3651676584353758e-18\n",
      "Ei ole normaaljaotus\n",
      "\n",
      "Kontrolltöö teinud meeste arv 179 ja protsent 89.5\n",
      "Kontrolltöö teinud naiste arv 86 ja protsent 91.49\n",
      "Hii-ruut: 0.10, p-value: 0.746\n",
      "\n",
      "Mehed -  mediaan: 14.5, keskmine: 13.22, standardhälve: 3.53\n",
      "Naised - mediaan: 13.75, keskmine: 12.21, standardhälve: 4.48\n",
      "\n",
      "Mann-Whitney test - U-stat: 8205.5 p-value: 0.379\n"
     ]
    },
    {
     "data": {
      "image/png": "[encoded data removed]",
      "text/plain": [
       "<Figure size 1000x700 with 1 Axes>"
      ]
     },
     "metadata": {},
     "output_type": "display_data"
    }
   ],
   "source": [
    "# Kontrolltöö 2\n",
    "tulp = 'Kontrolltöö 2 kokku (Punktid)'\n",
    "dfcopy = df[['Sugu', tulp]].copy()\n",
    "\n",
    "# Algne meeste ja naiste arv andmestikus\n",
    "kokkumehi = (dfcopy[\"Sugu\"] == \"M\").sum()\n",
    "kokkunaisi = (dfcopy[\"Sugu\"] == \"N\").sum()\n",
    "\n",
    "print(\"Teine kontrolltöö ilma kontrolltöö analüüsi lisapunktita\")\n",
    "print(\"\")\n",
    "\n",
    "# Tekstiväärtuste teisendamine numbriteks, puuduvate väärtuste eemaldamine\n",
    "dfcopy[tulp] = pd.to_numeric(dfcopy[tulp], errors='coerce')\n",
    "dfcopy.dropna(subset = [tulp], inplace=True)\n",
    "\n",
    "# Kontroll, kas andmed on normaaljaotusega (Shapiro-Wilk test)\n",
    "print(\"Normaaljaotuse kontroll\")\n",
    "statistic, pvalue = shapiro(dfcopy[tulp])\n",
    "\n",
    "print(\"Shapiro-Wilk test p-value:\", pvalue)\n",
    "if(pvalue < 0.05):\n",
    "    print(\"Ei ole normaaljaotus\")\n",
    "else:\n",
    "    print(\"On normaaljaotus\")\n",
    "\n",
    "print(\"\")\n",
    "\n",
    "# Kontrolltöö või kontrolltöö järeltöö sooritanute arv\n",
    "meestearv = (dfcopy[\"Sugu\"] == \"M\").sum()\n",
    "naistearv = (dfcopy[\"Sugu\"] == \"N\").sum()\n",
    "\n",
    "print(\"Kontrolltöö teinud meeste arv\", meestearv, \"ja protsent\", round(meestearv/kokkumehi*100, 2))\n",
    "print(\"Kontrolltöö teinud naiste arv\", naistearv, \"ja protsent\", round(naistearv/kokkunaisi*100, 2))\n",
    "\n",
    "# Hii-ruut test, et vaadata, kas osalenute arvus oli statistiliselt oluline sooline erinevus\n",
    "stat, p, dof, expected = chi2_contingency([[meestearv, naistearv],\n",
    "                                           [kokkumehi - meestearv, kokkunaisi - naistearv]])\n",
    "print(f\"Hii-ruut: {stat:.2f}, p-value: {p:.3f}\")\n",
    "if p <= 0.05:    \n",
    "        print(\"OLULINE ERINEVUS\")\n",
    "\n",
    "print(\"\")\n",
    "\n",
    "# Punktide sooline eraldamine\n",
    "punktid_M = dfcopy[dfcopy[\"Sugu\"] == \"M\"][tulp].astype(float)\n",
    "punktid_N = dfcopy[dfcopy[\"Sugu\"] == \"N\"][tulp].astype(float)\n",
    "\n",
    "# Mediaani, keskmise, standardhälve arvutamine\n",
    "print(f\"Mehed -  mediaan: {round(np.median(punktid_M), 2)}, keskmine: {round(np.mean(punktid_M), 2)}, standardhälve: {round(np.std(punktid_M), 2)}\")\n",
    "print(f\"Naised - mediaan: {round(np.median(punktid_N), 2)}, keskmine: {round(np.mean(punktid_N), 2)}, standardhälve: {round(np.std(punktid_N), 2)}\")\n",
    "\n",
    "print(\"\")\n",
    "\n",
    "# Soolise erinevuse test - Mann-Whitney U test\n",
    "stat, pvalue = mannwhitneyu(punktid_M, punktid_N)\n",
    "print(\"Mann-Whitney test - U-stat:\", round(stat, 1), \"p-value:\", round(pvalue, 3))\n",
    "if (pvalue < 0.05):\n",
    "    print(\"      Mann-Whitney U-testi järgi statistiliselt oluline erinevus, olulisusnivoo 0.05\")\n",
    "\n",
    "# Tulemuste visualiseerimine karpdiagrammina\n",
    "fig = plt.figure(figsize =(10, 7))\n",
    "plt.boxplot([punktid_M, punktid_N], labels=[\"M\", \"N\"])\n",
    "\n",
    "# Joonise kuvamine\n",
    "plt.show()"
   ]
  },
  {
   "cell_type": "markdown",
   "id": "8f855816-dee3-46f2-9519-02e60bf3e18c",
   "metadata": {},
   "source": [
    "### Analüüsist saadav lisapunkt\n",
    "\n",
    "Sarnaselt esimesele kontrolltööle, uuritakse, kas on erinevusi selle puhul, kuidas mehed ja naised erinevate kontrolltööst saadud punktisummadega kontrolltöö analüüsi esitasid. Teise kontrolltöö puhul aga lävendit ei olnud, seega kategooriaid on vähem."
   ]
  },
  {
   "cell_type": "code",
   "execution_count": 19,
   "id": "db1ebf00-7f43-43fa-875c-66804da6ebf1",
   "metadata": {},
   "outputs": [],
   "source": [
    "def analüüsipunkt2(punktiarv):\n",
    "    if punktiarv == 16:\n",
    "        return 'max'\n",
    "    elif punktiarv >=15:\n",
    "        return 'kuni punkt puudu max'\n",
    "    else:\n",
    "        return 'ülejäänud'"
   ]
  },
  {
   "cell_type": "markdown",
   "id": "b78989a7-26c9-4e37-ab7b-3500aefe4c7f",
   "metadata": {},
   "source": [
    "Järgmises koodiplokis on eraldatud kategooriatesse kontrolltöö algse sooritamise punktid ülemise funktsiooni analüüsipunkt abil. Neile, kes sooritasid ainult kontrolltöö järeltööd, kuid mitte algset kontrolltööd, on antud eraldi kategooria. "
   ]
  },
  {
   "cell_type": "code",
   "execution_count": 20,
   "id": "4053c4ae-41cb-4687-badd-47ee99d50f9d",
   "metadata": {},
   "outputs": [],
   "source": [
    "#Eraldatud kontrolltöö ja järeltöö\n",
    "tulp1 = 'VPL harjutus:Kontrolltöö nr 2 (Autorent) (Punktid)'\n",
    "tulp2 = 'VPL harjutus:Kontrolltöö nr 2 (Turniir) (Punktid)'\n",
    "tulp =\"Kontrolltöö 2 algne sooritus\"\n",
    "\n",
    "järeltöötulp = 'VPL harjutus:Kontrolltöö nr 2 (järeltöö 30.05) (Punktid)'\n",
    "järeltöötulp2 = 'VPL harjutus:Korduseksamieelne 2. kontrolltöö järeltöö (18.06) (Punktid)'\n",
    "\n",
    "dfcopy = df[['Sugu', tulp1, tulp2, järeltöötulp, järeltöötulp2, 'Kontrolltöö nr. 2 analüüs kokku (Punktid)']].copy()\n",
    "\n",
    "# Eemaldatud üliõpilased, kes ei teinud ei teist kontrolltööd ega selle järeltööd\n",
    "tühjadread = (dfcopy[tulp1] == \"-\") & (dfcopy[tulp2] == \"-\") & (dfcopy[järeltöötulp] == \"-\") & (dfcopy[järeltöötulp2] == \"-\")\n",
    "\n",
    "dfcopy = dfcopy[~tühjadread]\n",
    "\n",
    "dfcopy[\"Punktide kategooria\"] = None\n",
    "\n",
    "# Eraldatud kategooriasse need, kes sooritasid ainult järeltöö\n",
    "dfcopy.loc[(dfcopy[tulp1] == \"-\") & (dfcopy[tulp2] == \"-\"), \"Punktide kategooria\"] = \"Sooritasid ainult järeltöö\"\n",
    "\n",
    "dfcopy[[tulp1, tulp2]] = dfcopy[[tulp1, tulp2]].replace(\"-\", pd.NA)\n",
    "# Kombineerime kontrolltöö algse katse tulbad, võttes mitte-tühja väärtuse\n",
    "dfcopy[tulp] = dfcopy[tulp1].fillna(dfcopy[tulp2])\n",
    "\n",
    "# Neile, kes ei teinud ainult järeltööd, ehk kes sooritasid ka kontrolltöö algset katset, punktikategooria määramine funktsiooni analüüsipunkt abil\n",
    "tühjadread = dfcopy[\"Punktide kategooria\"].isna()\n",
    "dfcopy.loc[tühjadread, \"Punktide kategooria\"] = dfcopy.loc[tühjadread, tulp].apply(analüüsipunkt2)\n",
    "\n",
    "# Määrab, kas üliõpilane esitas kontrolltöö analüüsi\n",
    "dfcopy[\"Esitas kontrolltöö analüüsi\"] = dfcopy['Kontrolltöö nr. 2 analüüs kokku (Punktid)'].apply(lambda x: \"Jah\" if x != \"-\" else \"Ei\")\n"
   ]
  },
  {
   "cell_type": "markdown",
   "id": "d24493e8-8504-40b3-8955-7a69978775c5",
   "metadata": {},
   "source": [
    "Teise kontrolltöö analüüsi esitanud meeste ja naiste sagedused ja hii-ruut test, et leida, kas analüüsi üldisel esitamisel on statistiliselt oluline erinevus"
   ]
  },
  {
   "cell_type": "code",
   "execution_count": 21,
   "id": "0c797391-47ed-45c5-a742-2975492728ba",
   "metadata": {},
   "outputs": [
    {
     "name": "stdout",
     "output_type": "stream",
     "text": [
      "Esitas kontrolltöö analüüsi            Ei       Jah\n",
      "Sugu Punktide kategooria                           \n",
      "M    Sooritasid ainult järeltöö  0.875000  0.125000\n",
      "     kuni punkt puudu max        0.900000  0.100000\n",
      "     max                         1.000000       NaN\n",
      "     ülejäänud                   0.898734  0.101266\n",
      "N    Sooritasid ainult järeltöö  0.857143  0.142857\n",
      "     kuni punkt puudu max        0.900000  0.100000\n",
      "     max                         1.000000       NaN\n",
      "     ülejäänud                   0.913043  0.086957\n",
      "\n",
      "Sugu                           M   N\n",
      "Esitas kontrolltöö analüüsi         \n",
      "Ei                           164  80\n",
      "Jah                           15   6\n",
      "Hii-ruut: 0.02, p-value: 0.878\n"
     ]
    }
   ],
   "source": [
    "# Sageduste kokkuvõte\n",
    "kokkuvõte = dfcopy.groupby(['Sugu', \"Punktide kategooria\"])['Esitas kontrolltöö analüüsi'].value_counts(normalize=True).unstack()\n",
    "print(kokkuvõte)\n",
    "print (\"\")\n",
    "\n",
    "# Hii-ruut test kontrolltöö analüüsi esitanute ja soo vahel\n",
    "kokku = dfcopy[\"Sugu\"].value_counts()\n",
    "sagedustabel_kat = pd.crosstab(dfcopy['Esitas kontrolltöö analüüsi'], dfcopy[\"Sugu\"])\n",
    "\n",
    "print(sagedustabel_kat)\n",
    "\n",
    "stat, p, dof, expected = chi2_contingency(sagedustabel_kat)\n",
    "    \n",
    "print(f\"Hii-ruut: {stat:.2f}, p-value: {p:.3f}\")\n",
    "if p <= 0.05:    \n",
    "        print(\"OLULINE ERINEVUS\")    "
   ]
  },
  {
   "cell_type": "markdown",
   "id": "9a69c102-c038-49fe-a329-236280e47605",
   "metadata": {},
   "source": [
    "Hii-ruut test, et vaadata, kas punktikategooriatesse jaotumises tekib statistiliselt oluline erinevus"
   ]
  },
  {
   "cell_type": "code",
   "execution_count": 22,
   "id": "54d1dd43-a5cf-402e-bb50-78e74085a0bf",
   "metadata": {},
   "outputs": [
    {
     "name": "stdout",
     "output_type": "stream",
     "text": [
      "Mehed ja naised vastavas punktikategoorias\n",
      "Sugu                         M   N\n",
      "Punktide kategooria               \n",
      "Sooritasid ainult järeltöö  32   7\n",
      "kuni punkt puudu max        30  10\n",
      "max                         38  23\n",
      "ülejäänud                   79  46\n",
      "\n",
      "Meeste ja naiste protsentuaalne jaotus punktikategooriatesse\n",
      "Sugu                                M          N\n",
      "Punktide kategooria                             \n",
      "Sooritasid ainult järeltöö  17.877095   8.139535\n",
      "kuni punkt puudu max        16.759777  11.627907\n",
      "max                         21.229050  26.744186\n",
      "ülejäänud                   44.134078  53.488372\n",
      "\n",
      "Hii-ruut: 6.60, p-value: 0.086\n",
      "\n",
      "Oodatud väärtused:\n",
      "[[26.34339623 12.65660377]\n",
      " [27.01886792 12.98113208]\n",
      " [41.20377358 19.79622642]\n",
      " [84.43396226 40.56603774]]\n"
     ]
    }
   ],
   "source": [
    "# Vastavas punktikategoorias olev meeste ja naiste arv\n",
    "print(\"Mehed ja naised vastavas punktikategoorias\")\n",
    "sagedustabel = pd.crosstab(dfcopy[\"Punktide kategooria\"], dfcopy[\"Sugu\"])\n",
    "\n",
    "print(sagedustabel)\n",
    "\n",
    "print (\"\")\n",
    "print(\"Meeste ja naiste protsentuaalne jaotus punktikategooriatesse\") \n",
    "#Prontsentides jaotus\n",
    "loendur = dfcopy.groupby([\"Punktide kategooria\", \"Sugu\"]).size().unstack(fill_value=0)\n",
    "protsent = loendur.div(kokku, axis=1) * 100\n",
    "\n",
    "print(protsent)\n",
    "\n",
    "print(\"\")\n",
    "\n",
    "# Hii-ruut test, kas leidub statistiliselt oluline erinevus vastavas punktikategoorias meeste ja naiste vahel\n",
    "stat, p, dof, expected = chi2_contingency(sagedustabel)\n",
    "    \n",
    "print(f\"Hii-ruut: {stat:.2f}, p-value: {p:.3f}\")\n",
    "if p <= 0.05:    \n",
    "        print(\"OLULINE ERINEVUS\") \n",
    "print(\"\")\n",
    "print(\"Oodatud väärtused:\")\n",
    "print(expected)\n"
   ]
  },
  {
   "cell_type": "markdown",
   "id": "83045c06-fc43-4743-9c6d-e174434ba3bf",
   "metadata": {},
   "source": [
    "Järgmises koodiblokis vaadatakse iga kategooria puhul eraldi hii-ruut testi abil, kas on teise kontrolltöö punktikategooriate puhul statistiliselt oluline sooline erinevus, nagu esimeses kontrolltöös leidus maksimumpunktid saanute vahel"
   ]
  },
  {
   "cell_type": "code",
   "execution_count": 23,
   "id": "3bdd9222-ff42-4de1-afa2-ff9fa5adbdad",
   "metadata": {},
   "outputs": [
    {
     "name": "stdout",
     "output_type": "stream",
     "text": [
      "Sooritasid ainult järeltöö\n",
      "Hii-ruut: 3.65, p-value: 0.056\n",
      "\n",
      "kuni punkt puudu max\n",
      "Hii-ruut: 0.83, p-value: 0.363\n",
      "\n",
      "max\n",
      "Hii-ruut: 0.71, p-value: 0.399\n",
      "\n",
      "ülejäänud\n",
      "Hii-ruut: 1.68, p-value: 0.195\n",
      "\n"
     ]
    }
   ],
   "source": [
    "for kategooria in sagedustabel.index:\n",
    "    meestearv = sagedustabel[\"M\"].get(kategooria, 0)\n",
    "    naistearv = sagedustabel[\"N\"].get(kategooria, 0)\n",
    "    if(meestearv==0 or naistearv==0):\n",
    "        continue\n",
    "    stat, p, dof, expected = chi2_contingency([[meestearv, kokku[\"M\"] - meestearv],\n",
    "                                               [naistearv, kokku[\"N\"] - naistearv]])\n",
    "    print(kategooria)\n",
    "    print(f\"Hii-ruut: {stat:.2f}, p-value: {p:.3f}\")\n",
    "    if p <= 0.05:    \n",
    "        print(\"OLULINE ERINEVUS\") \n",
    "    print(\"\")\n"
   ]
  },
  {
   "cell_type": "markdown",
   "id": "7f8e522f-0c38-45ef-a377-a58be4c4f8b0",
   "metadata": {},
   "source": [
    "Kontrolltöö analüüsi esitamine punktikategooria põhjal ja vastav hii-ruut test, et kontrollida soolist erinevust"
   ]
  },
  {
   "cell_type": "code",
   "execution_count": 24,
   "id": "b312947d",
   "metadata": {},
   "outputs": [
    {
     "name": "stdout",
     "output_type": "stream",
     "text": [
      "Sooritasid ainult järeltöö\n",
      "Sugu                          M  N\n",
      "Esitas kontrolltöö analüüsi       \n",
      "Ei                           28  6\n",
      "Jah                           4  1\n",
      "\n",
      "Hii-ruut: 0.00, p-value: 1.000\n",
      "--------------------------\n",
      "ülejäänud\n",
      "Sugu                          M   N\n",
      "Esitas kontrolltöö analüüsi        \n",
      "Ei                           71  42\n",
      "Jah                           8   4\n",
      "\n",
      "Hii-ruut: 0.00, p-value: 1.000\n",
      "--------------------------\n",
      "kuni punkt puudu max\n",
      "Sugu                          M  N\n",
      "Esitas kontrolltöö analüüsi       \n",
      "Ei                           27  9\n",
      "Jah                           3  1\n",
      "\n",
      "Hii-ruut: 0.00, p-value: 1.000\n",
      "--------------------------\n"
     ]
    }
   ],
   "source": [
    "for kategooria in [\"Sooritasid ainult järeltöö\", \"ülejäänud\", \"kuni punkt puudu max\"]:\n",
    "    print(kategooria)\n",
    "    dfcopy_kat = dfcopy[dfcopy[\"Punktide kategooria\"] ==kategooria]\n",
    "    sagedustabel_kat = pd.crosstab(dfcopy_kat['Esitas kontrolltöö analüüsi'], dfcopy_kat[\"Sugu\"])\n",
    "\n",
    "    kokku = dfcopy_kat[\"Sugu\"].value_counts()\n",
    "    print(sagedustabel_kat)\n",
    "    print(\"\")\n",
    "    \n",
    "    stat, p, dof, expected = chi2_contingency(sagedustabel_kat, correction=True)\n",
    "    \n",
    "    print(f\"Hii-ruut: {stat:.2f}, p-value: {p:.3f}\")\n",
    "    if p <= 0.05:    \n",
    "        print(\"OLULINE ERINEVUS\") \n",
    "    \n",
    "    print (\"--------------------------\")"
   ]
  },
  {
   "cell_type": "markdown",
   "id": "0fd2d8d2-382c-4ba9-a706-20a8639316f7",
   "metadata": {},
   "source": [
    "Teise kontrolltöö analüüsi tulemuste punktijaotus"
   ]
  },
  {
   "cell_type": "code",
   "execution_count": 25,
   "id": "537ddbc7-edf4-4fad-82ab-ded67cadf46c",
   "metadata": {},
   "outputs": [
    {
     "name": "stdout",
     "output_type": "stream",
     "text": [
      "Kontrolltöö analüüsi tulemus\n",
      "\n",
      "Normaaljaotuse kontroll\n",
      "Shapiro-Wilk test p-value: 1.1576448599726064e-07\n",
      "Ei ole normaaljaotus\n",
      "\n",
      "Mehed -  mediaan: 1.0, keskmine: 0.92, standardhälve: 0.19\n",
      "Naised - mediaan: 1.0, keskmine: 0.92, standardhälve: 0.19\n",
      "\n",
      "Mann-Whitney test - U-stat: 43.5 p-value: 0.91\n"
     ]
    },
    {
     "data": {
      "image/png": "[encoded data removed]",
      "text/plain": [
       "<Figure size 1000x700 with 1 Axes>"
      ]
     },
     "metadata": {},
     "output_type": "display_data"
    }
   ],
   "source": [
    "# Kontrolltöö 2 analüüsist saadav lisapunkt\n",
    "\n",
    "tulp = 'Kontrolltöö nr. 2 analüüs kokku (Punktid)'\n",
    "dfcopy = df[['Sugu', tulp]].copy()\n",
    "\n",
    "print(\"Kontrolltöö analüüsi tulemus\")\n",
    "print(\"\")\n",
    "\n",
    "# Tekstiväärtuste teisendamine numbriteks, puuduvate väärtuste eemaldamine\n",
    "dfcopy[tulp] = pd.to_numeric(dfcopy[tulp], errors='coerce')\n",
    "dfcopy.dropna(subset = [tulp], inplace=True)\n",
    "\n",
    "# Kontroll, kas andmed on normaaljaotusega (Shapiro-Wilk test)\n",
    "print(\"Normaaljaotuse kontroll\")\n",
    "statistic, pvalue = shapiro(dfcopy[tulp])\n",
    "\n",
    "print(\"Shapiro-Wilk test p-value:\", pvalue)\n",
    "if(pvalue < 0.05):\n",
    "    print(\"Ei ole normaaljaotus\")\n",
    "else:\n",
    "    print(\"On normaaljaotus\")\n",
    "\n",
    "print(\"\")\n",
    "\n",
    "# Punktide sooline eraldamine\n",
    "punktid_M = dfcopy[dfcopy[\"Sugu\"] == \"M\"][tulp].astype(float)\n",
    "punktid_N = dfcopy[dfcopy[\"Sugu\"] == \"N\"][tulp].astype(float)\n",
    "\n",
    "# Mediaani, keskmise, standardhälve arvutamine\n",
    "print(f\"Mehed -  mediaan: {round(np.median(punktid_M), 2)}, keskmine: {round(np.mean(punktid_M), 2)}, standardhälve: {round(np.std(punktid_M), 2)}\")\n",
    "print(f\"Naised - mediaan: {round(np.median(punktid_N), 2)}, keskmine: {round(np.mean(punktid_N), 2)}, standardhälve: {round(np.std(punktid_N), 2)}\")\n",
    "\n",
    "print(\"\")\n",
    "\n",
    "# Soolise erinevuse test - Mann-Whitney U test\n",
    "stat, pvalue = mannwhitneyu(punktid_M, punktid_N)\n",
    "print(\"Mann-Whitney test - U-stat:\", round(stat, 1), \"p-value:\", round(pvalue, 3))\n",
    "if (pvalue < 0.05):\n",
    "    print(\"      Mann-Whitney U-testi järgi statistiliselt oluline erinevus, olulisusnivoo 0.05\")\n",
    "\n",
    "# Tulemuste visualiseerimine karpdiagrammina\n",
    "fig = plt.figure(figsize =(10, 7))\n",
    "plt.boxplot([punktid_M, punktid_N], labels=[\"M\", \"N\"])\n",
    "\n",
    "# Joonise kuvamine\n",
    "plt.show()"
   ]
  },
  {
   "cell_type": "markdown",
   "id": "aa094414-2e23-41f2-91e4-d17792ac3484",
   "metadata": {},
   "source": [
    "### Teise kontrolltöö lõplikud punktid"
   ]
  },
  {
   "cell_type": "code",
   "execution_count": 26,
   "id": "d15503d4-a128-43bf-a275-004c7f3843e8",
   "metadata": {},
   "outputs": [
    {
     "name": "stdout",
     "output_type": "stream",
     "text": [
      "Teise kontrolltöö lõplikud punktid\n",
      "\n",
      "Normaaljaotuse kontroll\n",
      "Shapiro-Wilk test p-value: 1.4952766089289382e-18\n",
      "Ei ole normaaljaotus\n",
      "\n",
      "Mehed -  mediaan: 14.7, keskmine: 13.29, standardhälve: 3.52\n",
      "Naised - mediaan: 14.28, keskmine: 12.27, standardhälve: 4.47\n",
      "\n",
      "Mann-Whitney test - U-stat: 8258.5 p-value: 0.33\n",
      "\n"
     ]
    },
    {
     "data": {
      "image/png": "[encoded data removed]",
      "text/plain": [
       "<Figure size 1000x700 with 1 Axes>"
      ]
     },
     "metadata": {},
     "output_type": "display_data"
    }
   ],
   "source": [
    "# Kontrolltöö 2 + analüüs kokku \n",
    "tulp = 'Kontrolltöö 2 + analüüs kokku (Punktid)'\n",
    "dfcopy = df[['Sugu', tulp]].copy()\n",
    "\n",
    "print(\"Teise kontrolltöö lõplikud punktid\")\n",
    "print(\"\")\n",
    "\n",
    "# Tekstiväärtuste teisendamine numbriteks, puuduvate väärtuste eemaldamine\n",
    "dfcopy[tulp] = pd.to_numeric(dfcopy[tulp], errors='coerce')\n",
    "dfcopy.dropna(subset = [tulp], inplace=True)\n",
    "\n",
    "# Kontroll, kas andmed on normaaljaotusega (Shapiro-Wilk test)\n",
    "print(\"Normaaljaotuse kontroll\")\n",
    "statistic, pvalue = shapiro(dfcopy[tulp])\n",
    "\n",
    "print(\"Shapiro-Wilk test p-value:\", pvalue)\n",
    "if(pvalue < 0.05):\n",
    "    print(\"Ei ole normaaljaotus\")\n",
    "else:\n",
    "    print(\"On normaaljaotus\")\n",
    "\n",
    "print(\"\")\n",
    "\n",
    "# Punktide sooline eraldamine\n",
    "punktid_M = dfcopy[dfcopy[\"Sugu\"] == \"M\"][tulp].astype(float)\n",
    "punktid_N = dfcopy[dfcopy[\"Sugu\"] == \"N\"][tulp].astype(float)\n",
    "\n",
    "# Mediaani, keskmise, standardhälve arvutamine\n",
    "print(f\"Mehed -  mediaan: {round(np.median(punktid_M), 2)}, keskmine: {round(np.mean(punktid_M), 2)}, standardhälve: {round(np.std(punktid_M), 2)}\")\n",
    "print(f\"Naised - mediaan: {round(np.median(punktid_N), 2)}, keskmine: {round(np.mean(punktid_N), 2)}, standardhälve: {round(np.std(punktid_N), 2)}\")\n",
    "\n",
    "print(\"\")\n",
    "\n",
    "# Soolise erinevuse test - Mann-Whitney U test\n",
    "stat, pvalue = mannwhitneyu(punktid_M, punktid_N)\n",
    "print(\"Mann-Whitney test - U-stat:\", round(stat, 1), \"p-value:\", round(pvalue, 3))\n",
    "if (pvalue < 0.05):\n",
    "    print(\"      Mann-Whitney U-testi järgi statistiliselt oluline erinevus, olulisusnivoo 0.05\")\n",
    "\n",
    "print(\"\")\n",
    "\n",
    "# Tulemuste visualiseerimine karpdiagrammina\n",
    "fig = plt.figure(figsize =(10, 7))\n",
    "plt.boxplot([punktid_M, punktid_N], labels=[\"M\", \"N\"])\n",
    "\n",
    "# Joonise kuvamine\n",
    "plt.show()"
   ]
  },
  {
   "cell_type": "markdown",
   "id": "e20ead41-f3e1-4093-8f59-b69c771006a5",
   "metadata": {},
   "source": [
    "### Rühmatöö"
   ]
  },
  {
   "cell_type": "code",
   "execution_count": 27,
   "id": "5a054660-1028-4d74-a908-589d192e0184",
   "metadata": {},
   "outputs": [
    {
     "name": "stdout",
     "output_type": "stream",
     "text": [
      "Rühmatöö\n",
      "\n",
      "Normaaljaotuse kontroll\n",
      "Shapiro-Wilk test p-value: 1.0623407299752334e-21\n",
      "Ei ole normaaljaotus\n",
      "\n",
      "Mehed -  mediaan: 12.5, keskmine: 10.61, standardhälve: 3.43\n",
      "Naised - mediaan: 12.83, keskmine: 10.94, standardhälve: 3.23\n",
      "\n",
      "Mann-Whitney test - U-stat: 7666.0 p-value: 0.13\n"
     ]
    },
    {
     "data": {
      "image/png": "[encoded data removed]",
      "text/plain": [
       "<Figure size 1000x700 with 1 Axes>"
      ]
     },
     "metadata": {},
     "output_type": "display_data"
    }
   ],
   "source": [
    "# Rühmatöö kokku\n",
    "tulp = 'Rühmatöö kokku (Punktid)'\n",
    "dfcopy = df[['Sugu', tulp]].copy()\n",
    "\n",
    "print(\"Rühmatöö\")\n",
    "print(\"\")\n",
    "\n",
    "# Tekstiväärtuste teisendamine numbriteks, puuduvate väärtuste eemaldamine\n",
    "dfcopy[tulp] = pd.to_numeric(dfcopy[tulp], errors='coerce')\n",
    "dfcopy.dropna(subset = [tulp], inplace=True)\n",
    "\n",
    "# Kontroll, kas andmed on normaaljaotusega (Shapiro-Wilk test)\n",
    "print(\"Normaaljaotuse kontroll\")\n",
    "statistic, pvalue = shapiro(dfcopy[tulp])\n",
    "\n",
    "print(\"Shapiro-Wilk test p-value:\", pvalue)\n",
    "if(pvalue < 0.05):\n",
    "    print(\"Ei ole normaaljaotus\")\n",
    "else:\n",
    "    print(\"On normaaljaotus\")\n",
    "\n",
    "print(\"\")\n",
    "\n",
    "# Punktide sooline eraldamine\n",
    "punktid_M = dfcopy[dfcopy[\"Sugu\"] == \"M\"][tulp].astype(float)\n",
    "punktid_N = dfcopy[dfcopy[\"Sugu\"] == \"N\"][tulp].astype(float)\n",
    "\n",
    "# Mediaani, keskmise, standardhälve arvutamine\n",
    "print(f\"Mehed -  mediaan: {round(np.median(punktid_M), 2)}, keskmine: {round(np.mean(punktid_M), 2)}, standardhälve: {round(np.std(punktid_M), 2)}\")\n",
    "print(f\"Naised - mediaan: {round(np.median(punktid_N), 2)}, keskmine: {round(np.mean(punktid_N), 2)}, standardhälve: {round(np.std(punktid_N), 2)}\")\n",
    "\n",
    "print(\"\")\n",
    "\n",
    "# Soolise erinevuse test - Mann-Whitney U test\n",
    "stat, pvalue = mannwhitneyu(punktid_M, punktid_N)\n",
    "print(\"Mann-Whitney test - U-stat:\", round(stat, 1), \"p-value:\", round(pvalue, 3))\n",
    "if (pvalue < 0.05):\n",
    "    print(\"      Mann-Whitney U-testi järgi statistiliselt oluline erinevus, olulisusnivoo 0.05\")\n",
    "\n",
    "# Tulemuste visualiseerimine karpdiagrammina\n",
    "fig = plt.figure(figsize =(10, 7))\n",
    "plt.boxplot([punktid_M, punktid_N], labels=[\"M\", \"N\"])\n",
    "\n",
    "# Joonise kuvamine\n",
    "plt.show()"
   ]
  },
  {
   "cell_type": "markdown",
   "id": "335d8150-4ffe-4ad1-853b-5732efcd3179",
   "metadata": {},
   "source": [
    "### Rühmatöö esimene osa"
   ]
  },
  {
   "cell_type": "code",
   "execution_count": 28,
   "id": "81254c5b-bead-4a50-abcb-f1cf0113d572",
   "metadata": {},
   "outputs": [
    {
     "name": "stdout",
     "output_type": "stream",
     "text": [
      "Rühmatöö esimene osa\n",
      "\n",
      "Normaaljaotuse kontroll\n",
      "Shapiro-Wilk test p-value: 8.45084385494514e-28\n",
      "Ei ole normaaljaotus\n",
      "\n",
      "Rühmatöö esimese osa esitanud meeste arv 184 ja protsent 92.0\n",
      "Rühmatöö esimese osa esitanud naiste arv 90 ja protsent 95.74\n",
      "Hii-ruut: 0.89, p-value: 0.347\n",
      "\n",
      "Mehed -  mediaan: 5.0, keskmine: 4.65, standardhälve: 0.8\n",
      "Naised - mediaan: 5.0, keskmine: 4.71, standardhälve: 0.8\n",
      "\n",
      "Mann-Whitney test - U-stat: 7858.0 p-value: 0.405\n"
     ]
    },
    {
     "data": {
      "image/png": "[encoded data removed]",
      "text/plain": [
       "<Figure size 1000x700 with 1 Axes>"
      ]
     },
     "metadata": {},
     "output_type": "display_data"
    }
   ],
   "source": [
    "# Rühmatöö nr 1\n",
    "tulp = 'Ülesanne:Rühmatöö nr. 1 (Punktid)'\n",
    "dfcopy = df[['Sugu', tulp]].copy()\n",
    "\n",
    "# Algne meeste ja naiste arv andmestikus\n",
    "kokkumehi = (dfcopy[\"Sugu\"] == \"M\").sum()\n",
    "kokkunaisi = (dfcopy[\"Sugu\"] == \"N\").sum()\n",
    "\n",
    "print(\"Rühmatöö esimene osa\")\n",
    "print(\"\")\n",
    "\n",
    "# Tekstiväärtuste teisendamine numbriteks, puuduvate väärtuste eemaldamine\n",
    "dfcopy[tulp] = pd.to_numeric(dfcopy[tulp], errors='coerce')\n",
    "dfcopy.dropna(subset = [tulp], inplace=True)\n",
    "\n",
    "# Kontroll, kas andmed on normaaljaotusega (Shapiro-Wilk test)\n",
    "print(\"Normaaljaotuse kontroll\")\n",
    "statistic, pvalue = shapiro(dfcopy[tulp])\n",
    "\n",
    "print(\"Shapiro-Wilk test p-value:\", pvalue)\n",
    "if(pvalue < 0.05):\n",
    "    print(\"Ei ole normaaljaotus\")\n",
    "else:\n",
    "    print(\"On normaaljaotus\")\n",
    "\n",
    "print(\"\")\n",
    "\n",
    "#Rühmatöö esitanud meeste ja naiste arv\n",
    "meestearv = (dfcopy[\"Sugu\"] == \"M\").sum()\n",
    "naistearv = (dfcopy[\"Sugu\"] == \"N\").sum()\n",
    "\n",
    "print(\"Rühmatöö esimese osa esitanud meeste arv\", meestearv, \"ja protsent\", round(meestearv/kokkumehi*100, 2))\n",
    "print(\"Rühmatöö esimese osa esitanud naiste arv\", naistearv, \"ja protsent\", round(naistearv/kokkunaisi*100, 2))\n",
    "\n",
    "stat, p, dof, expected = chi2_contingency([[meestearv, naistearv],\n",
    "                                           [kokkumehi - meestearv, kokkunaisi - naistearv]])\n",
    "print(f\"Hii-ruut: {stat:.2f}, p-value: {p:.3f}\")\n",
    "if p <= 0.05:    \n",
    "        print(\"OLULINE ERINEVUS\")\n",
    "print(\"\")\n",
    "\n",
    "# Punktide sooline eraldamine\n",
    "punktid_M = dfcopy[dfcopy[\"Sugu\"] == \"M\"][tulp].astype(float)\n",
    "punktid_N = dfcopy[dfcopy[\"Sugu\"] == \"N\"][tulp].astype(float)\n",
    "\n",
    "\n",
    "# Mediaani, keskmise, standardhälve arvutamine\n",
    "print(f\"Mehed -  mediaan: {round(np.median(punktid_M), 2)}, keskmine: {round(np.mean(punktid_M), 2)}, standardhälve: {round(np.std(punktid_M), 2)}\")\n",
    "print(f\"Naised - mediaan: {round(np.median(punktid_N), 2)}, keskmine: {round(np.mean(punktid_N), 2)}, standardhälve: {round(np.std(punktid_N), 2)}\")\n",
    "\n",
    "print(\"\")\n",
    "\n",
    "# Soolise erinevuse test - Mann-Whitney U test\n",
    "stat, pvalue = mannwhitneyu(punktid_M, punktid_N)\n",
    "print(\"Mann-Whitney test - U-stat:\", round(stat, 1), \"p-value:\", round(pvalue, 3))\n",
    "if (pvalue < 0.05):\n",
    "    print(\"      Mann-Whitney U-testi järgi statistiliselt oluline erinevus, olulisusnivoo 0.05\")\n",
    "\n",
    "# Tulemuste visualiseerimine karpdiagrammina\n",
    "fig = plt.figure(figsize =(10, 7))\n",
    "plt.boxplot([punktid_M, punktid_N], labels=[\"M\", \"N\"])\n",
    "\n",
    "# Joonise kuvamine\n",
    "plt.show()"
   ]
  },
  {
   "cell_type": "markdown",
   "id": "9ae7c809-9b7f-42d4-82fb-73d2eb6f055a",
   "metadata": {},
   "source": [
    "### Rühmatöö teine osa"
   ]
  },
  {
   "cell_type": "code",
   "execution_count": 29,
   "id": "2d8f8e73-bc10-44b5-b406-93e1bacf9f2e",
   "metadata": {},
   "outputs": [
    {
     "name": "stdout",
     "output_type": "stream",
     "text": [
      "Rühmatöö teine osa\n",
      "\n",
      "Normaaljaotuse kontroll\n",
      "Shapiro-Wilk test p-value: 1.0848542125901288e-25\n",
      "Ei ole normaaljaotus\n",
      "\n",
      "Rühmatöö teise osa esitanud meeste arv 161 ja protsent 80.5\n",
      "Rühmatöö teise osa esitanud naiste arv 81 ja protsent 86.17\n",
      "Hii-ruut: 1.05, p-value: 0.306\n",
      "\n",
      "Mehed -  mediaan: 5.0, keskmine: 4.54, standardhälve: 1.0\n",
      "Naised - mediaan: 5.0, keskmine: 4.63, standardhälve: 0.95\n",
      "\n",
      "Mann-Whitney test - U-stat: 5959.5 p-value: 0.195\n"
     ]
    },
    {
     "data": {
      "image/png": "[encoded data removed]",
      "text/plain": [
       "<Figure size 1000x700 with 1 Axes>"
      ]
     },
     "metadata": {},
     "output_type": "display_data"
    }
   ],
   "source": [
    "# Rühmatöö nr 2\n",
    "tulp = 'Ülesanne:Rühmatöö nr. 2 (Punktid)'\n",
    "dfcopy = df[['Sugu', tulp]].copy()\n",
    "\n",
    "\n",
    "# Algne meeste ja naiste arv andmestikus\n",
    "kokkumehi = (dfcopy[\"Sugu\"] == \"M\").sum()\n",
    "kokkunaisi = (dfcopy[\"Sugu\"] == \"N\").sum()\n",
    "\n",
    "print(\"Rühmatöö teine osa\")\n",
    "print(\"\")\n",
    "\n",
    "# Tekstiväärtuste teisendamine numbriteks, puuduvate väärtuste eemaldamine\n",
    "dfcopy[tulp] = pd.to_numeric(dfcopy[tulp], errors='coerce')\n",
    "dfcopy.dropna(subset = [tulp], inplace=True)\n",
    "\n",
    "# Kontroll, kas andmed on normaaljaotusega (Shapiro-Wilk test)\n",
    "print(\"Normaaljaotuse kontroll\")\n",
    "statistic, pvalue = shapiro(dfcopy[tulp])\n",
    "\n",
    "print(\"Shapiro-Wilk test p-value:\", pvalue)\n",
    "if(pvalue < 0.05):\n",
    "    print(\"Ei ole normaaljaotus\")\n",
    "else:\n",
    "    print(\"On normaaljaotus\")\n",
    "\n",
    "print(\"\")\n",
    "\n",
    "#Rühmatöö esitanud meeste ja naiste arv\n",
    "meestearv = (dfcopy[\"Sugu\"] == \"M\").sum()\n",
    "naistearv = (dfcopy[\"Sugu\"] == \"N\").sum()\n",
    "\n",
    "print(\"Rühmatöö teise osa esitanud meeste arv\", meestearv, \"ja protsent\", round(meestearv/kokkumehi*100, 2))\n",
    "print(\"Rühmatöö teise osa esitanud naiste arv\", naistearv, \"ja protsent\", round(naistearv/kokkunaisi*100, 2))\n",
    "\n",
    "stat, p, dof, expected = chi2_contingency([[meestearv, naistearv],\n",
    "                                           [kokkumehi - meestearv, kokkunaisi - naistearv]])\n",
    "print(f\"Hii-ruut: {stat:.2f}, p-value: {p:.3f}\")\n",
    "if p <= 0.05:    \n",
    "        print(\"OLULINE ERINEVUS\")\n",
    "print(\"\")\n",
    "\n",
    "# Punktide sooline eraldamine\n",
    "punktid_M = dfcopy[dfcopy[\"Sugu\"] == \"M\"][tulp].astype(float)\n",
    "punktid_N = dfcopy[dfcopy[\"Sugu\"] == \"N\"][tulp].astype(float)\n",
    "\n",
    "\n",
    "# Mediaani, keskmise, standardhälve arvutamine\n",
    "print(f\"Mehed -  mediaan: {round(np.median(punktid_M), 2)}, keskmine: {round(np.mean(punktid_M), 2)}, standardhälve: {round(np.std(punktid_M), 2)}\")\n",
    "print(f\"Naised - mediaan: {round(np.median(punktid_N), 2)}, keskmine: {round(np.mean(punktid_N), 2)}, standardhälve: {round(np.std(punktid_N), 2)}\")\n",
    "\n",
    "print(\"\")\n",
    "\n",
    "# Soolise erinevuse test - Mann-Whitney U test\n",
    "stat, pvalue = mannwhitneyu(punktid_M, punktid_N)\n",
    "print(\"Mann-Whitney test - U-stat:\", round(stat, 1), \"p-value:\", round(pvalue, 3))\n",
    "if (pvalue < 0.05):\n",
    "    print(\"      Mann-Whitney U-testi järgi statistiliselt oluline erinevus, olulisusnivoo 0.05\")\n",
    "\n",
    "# Tulemuste visualiseerimine karpdiagrammina\n",
    "fig = plt.figure(figsize =(10, 7))\n",
    "plt.boxplot([punktid_M, punktid_N], labels=[\"M\", \"N\"])\n",
    "\n",
    "# Joonise kuvamine\n",
    "plt.show()"
   ]
  },
  {
   "cell_type": "markdown",
   "id": "a791b7d7-d771-4292-b254-dad8ce391274",
   "metadata": {},
   "source": [
    "### Rühmatöö esitlus"
   ]
  },
  {
   "cell_type": "code",
   "execution_count": 30,
   "id": "4b34a84a-173c-45ee-be63-4ef2de3300a8",
   "metadata": {},
   "outputs": [
    {
     "name": "stdout",
     "output_type": "stream",
     "text": [
      "Rühmatöö esitlus\n",
      "\n",
      "Normaaljaotuse kontroll\n",
      "Shapiro-Wilk test p-value: 6.386751548207452e-28\n",
      "Ei ole normaaljaotus\n",
      "\n",
      "Rühmatöö esitluse esitanud meeste arv 140 ja protsent 70.0\n",
      "Rühmatöö esitluse esitanud naiste arv 72 ja protsent 76.6\n",
      "Hii-ruut: 1.07, p-value: 0.300\n",
      "\n",
      "Mehed -  mediaan: 3.0, keskmine: 2.83, standardhälve: 0.56\n",
      "Naised - mediaan: 3.0, keskmine: 2.88, standardhälve: 0.5\n",
      "\n",
      "Mann-Whitney test - U-stat: 4648.5 p-value: 0.23\n"
     ]
    },
    {
     "data": {
      "image/png": "[encoded data removed]",
      "text/plain": [
       "<Figure size 1000x700 with 1 Axes>"
      ]
     },
     "metadata": {},
     "output_type": "display_data"
    }
   ],
   "source": [
    "# Rühmatöö esitlus\n",
    "tulp = 'Ülesanne:Rühmatöö esitlus (Punktid)'\n",
    "dfcopy = df[['Sugu', tulp]].copy()\n",
    "\n",
    "# Algne meeste ja naiste arv andmestikus\n",
    "kokkumehi = (dfcopy[\"Sugu\"] == \"M\").sum()\n",
    "kokkunaisi = (dfcopy[\"Sugu\"] == \"N\").sum()\n",
    "\n",
    "print(\"Rühmatöö esitlus\")\n",
    "print(\"\")\n",
    "\n",
    "# Tekstiväärtuste teisendamine numbriteks, puuduvate väärtuste eemaldamine\n",
    "dfcopy[tulp] = pd.to_numeric(dfcopy[tulp], errors='coerce')\n",
    "dfcopy.dropna(subset = [tulp], inplace=True)\n",
    "\n",
    "# Kontroll, kas andmed on normaaljaotusega (Shapiro-Wilk test)\n",
    "print(\"Normaaljaotuse kontroll\")\n",
    "statistic, pvalue = shapiro(dfcopy[tulp])\n",
    "\n",
    "print(\"Shapiro-Wilk test p-value:\", pvalue)\n",
    "if(pvalue < 0.05):\n",
    "    print(\"Ei ole normaaljaotus\")\n",
    "else:\n",
    "    print(\"On normaaljaotus\")\n",
    "\n",
    "print(\"\")\n",
    "\n",
    "#Rühmatöö esitanud meeste ja naiste arv\n",
    "meestearv = (dfcopy[\"Sugu\"] == \"M\").sum()\n",
    "naistearv = (dfcopy[\"Sugu\"] == \"N\").sum()\n",
    "\n",
    "print(\"Rühmatöö esitluse esitanud meeste arv\", meestearv, \"ja protsent\", round(meestearv/kokkumehi*100, 2))\n",
    "print(\"Rühmatöö esitluse esitanud naiste arv\", naistearv, \"ja protsent\", round(naistearv/kokkunaisi*100, 2))\n",
    "\n",
    "stat, p, dof, expected = chi2_contingency([[meestearv, naistearv],\n",
    "                                           [kokkumehi - meestearv, kokkunaisi - naistearv]])\n",
    "print(f\"Hii-ruut: {stat:.2f}, p-value: {p:.3f}\")\n",
    "if p <= 0.05:    \n",
    "        print(\"OLULINE ERINEVUS\")\n",
    "print(\"\")\n",
    "\n",
    "# Punktide sooline eraldamine\n",
    "punktid_M = dfcopy[dfcopy[\"Sugu\"] == \"M\"][tulp].astype(float)\n",
    "punktid_N = dfcopy[dfcopy[\"Sugu\"] == \"N\"][tulp].astype(float)\n",
    "\n",
    "\n",
    "# Mediaani, keskmise, standardhälve arvutamine\n",
    "print(f\"Mehed -  mediaan: {round(np.median(punktid_M), 2)}, keskmine: {round(np.mean(punktid_M), 2)}, standardhälve: {round(np.std(punktid_M), 2)}\")\n",
    "print(f\"Naised - mediaan: {round(np.median(punktid_N), 2)}, keskmine: {round(np.mean(punktid_N), 2)}, standardhälve: {round(np.std(punktid_N), 2)}\")\n",
    "\n",
    "print(\"\")\n",
    "\n",
    "# Soolise erinevuse test - Mann-Whitney U test\n",
    "stat, pvalue = mannwhitneyu(punktid_M, punktid_N)\n",
    "print(\"Mann-Whitney test - U-stat:\", round(stat, 1), \"p-value:\", round(pvalue, 3))\n",
    "if (pvalue < 0.05):\n",
    "    print(\"      Mann-Whitney U-testi järgi statistiliselt oluline erinevus, olulisusnivoo 0.05\")\n",
    "\n",
    "# Tulemuste visualiseerimine karpdiagrammina\n",
    "fig = plt.figure(figsize =(10, 7))\n",
    "plt.boxplot([punktid_M, punktid_N], labels=[\"M\", \"N\"])\n",
    "\n",
    "# Joonise kuvamine\n",
    "plt.show()"
   ]
  },
  {
   "cell_type": "markdown",
   "id": "5b583123-487e-4d9f-92dd-527b030b98dc",
   "metadata": {},
   "source": [
    "### Loengutestid"
   ]
  },
  {
   "cell_type": "code",
   "execution_count": 31,
   "id": "7e57dcc8-3056-414a-94d5-a645ad4fb7ff",
   "metadata": {},
   "outputs": [
    {
     "name": "stdout",
     "output_type": "stream",
     "text": [
      "Loengutestid\n",
      "\n",
      "Normaaljaotuse kontroll\n",
      "Shapiro-Wilk test p-value: 4.8040327507466e-25\n",
      "Ei ole normaaljaotus\n",
      "\n",
      "Mehed -  mediaan: 11.82, keskmine: 10.72, standardhälve: 2.26\n",
      "Naised - mediaan: 12.0, keskmine: 11.1, standardhälve: 1.71\n",
      "\n",
      "Mann-Whitney test - U-stat: 8224.5 p-value: 0.068\n"
     ]
    },
    {
     "data": {
      "image/png": "[encoded data removed]",
      "text/plain": [
       "<Figure size 1000x700 with 1 Axes>"
      ]
     },
     "metadata": {},
     "output_type": "display_data"
    }
   ],
   "source": [
    "# Loengud (Punktid)\n",
    "tulp = 'Loengud (Punktid)'\n",
    "dfcopy = df[['Sugu', tulp]].copy()\n",
    "\n",
    "print(\"Loengutestid\")\n",
    "print(\"\")\n",
    "\n",
    "# Tekstiväärtuste teisendamine numbriteks, puuduvate väärtuste eemaldamine\n",
    "dfcopy[tulp] = pd.to_numeric(dfcopy[tulp], errors='coerce')\n",
    "dfcopy.dropna(subset = [tulp], inplace=True)\n",
    "\n",
    "# Kontroll, kas andmed on normaaljaotusega (Shapiro-Wilk test)\n",
    "print(\"Normaaljaotuse kontroll\")\n",
    "statistic, pvalue = shapiro(dfcopy[tulp])\n",
    "\n",
    "print(\"Shapiro-Wilk test p-value:\", pvalue)\n",
    "if(pvalue < 0.05):\n",
    "    print(\"Ei ole normaaljaotus\")\n",
    "else:\n",
    "    print(\"On normaaljaotus\")\n",
    "\n",
    "print(\"\")\n",
    "\n",
    "# Punktide sooline eraldamine\n",
    "punktid_M = dfcopy[dfcopy[\"Sugu\"] == \"M\"][tulp].astype(float)\n",
    "punktid_N = dfcopy[dfcopy[\"Sugu\"] == \"N\"][tulp].astype(float)\n",
    "\n",
    "# Mediaani, keskmise, standardhälve arvutamine\n",
    "print(f\"Mehed -  mediaan: {round(np.median(punktid_M), 2)}, keskmine: {round(np.mean(punktid_M), 2)}, standardhälve: {round(np.std(punktid_M), 2)}\")\n",
    "print(f\"Naised - mediaan: {round(np.median(punktid_N), 2)}, keskmine: {round(np.mean(punktid_N), 2)}, standardhälve: {round(np.std(punktid_N), 2)}\")\n",
    "\n",
    "print(\"\")\n",
    "\n",
    "# Soolise erinevuse test - Mann-Whitney U test\n",
    "stat, pvalue = mannwhitneyu(punktid_M, punktid_N)\n",
    "print(\"Mann-Whitney test - U-stat:\", round(stat, 1), \"p-value:\", round(pvalue, 3))\n",
    "if (pvalue < 0.05):\n",
    "    print(\"      Mann-Whitney U-testi järgi statistiliselt oluline erinevus, olulisusnivoo 0.05\")\n",
    "\n",
    "# Tulemuste visualiseerimine karpdiagrammina\n",
    "fig = plt.figure(figsize =(10, 7))\n",
    "plt.boxplot([punktid_M, punktid_N], labels=[\"M\", \"N\"])\n",
    "\n",
    "# Joonise kuvamine\n",
    "plt.show()"
   ]
  },
  {
   "cell_type": "markdown",
   "id": "6ba3539d-f019-467f-868a-035c2797ad10",
   "metadata": {},
   "source": [
    "### Eksam"
   ]
  },
  {
   "cell_type": "code",
   "execution_count": 32,
   "id": "0b087157-337d-4669-9f6a-c1a5607d9322",
   "metadata": {},
   "outputs": [
    {
     "name": "stdout",
     "output_type": "stream",
     "text": [
      "Eksam\n",
      "\n",
      "Normaaljaotuse kontroll\n",
      "Shapiro-Wilk test p-value: 5.0312366511207074e-05\n",
      "Ei ole normaaljaotus\n",
      "\n",
      "Mehed -  mediaan: 26.4, keskmine: 26.21, standardhälve: 3.67\n",
      "Naised - mediaan: 25.89, keskmine: 25.52, standardhälve: 3.99\n",
      "\n",
      "Mann-Whitney test - U-stat: 8421.0 p-value: 0.215\n"
     ]
    },
    {
     "data": {
      "image/png": "[encoded data removed]",
      "text/plain": [
       "<Figure size 1000x700 with 1 Axes>"
      ]
     },
     "metadata": {},
     "output_type": "display_data"
    }
   ],
   "source": [
    "# Eksam (Punktid)\n",
    "tulp =  'Eksam (Punktid)'\n",
    "dfcopy = df[['Sugu', tulp]].copy()\n",
    "\n",
    "print(\"Eksam\")\n",
    "print(\"\")\n",
    "\n",
    "# Tekstiväärtuste teisendamine numbriteks, puuduvate väärtuste eemaldamine\n",
    "dfcopy[tulp] = pd.to_numeric(dfcopy[tulp], errors='coerce')\n",
    "dfcopy.dropna(subset = [tulp], inplace=True)\n",
    "\n",
    "# Kontroll, kas andmed on normaaljaotusega (Shapiro-Wilk test)\n",
    "print(\"Normaaljaotuse kontroll\")\n",
    "statistic, pvalue = shapiro(dfcopy[tulp])\n",
    "\n",
    "print(\"Shapiro-Wilk test p-value:\", pvalue)\n",
    "if(pvalue < 0.05):\n",
    "    print(\"Ei ole normaaljaotus\")\n",
    "else:\n",
    "    print(\"On normaaljaotus\")\n",
    "\n",
    "print(\"\")\n",
    "\n",
    "# Punktide sooline eraldamine\n",
    "punktid_M = dfcopy[dfcopy[\"Sugu\"] == \"M\"][tulp].astype(float)\n",
    "punktid_N = dfcopy[dfcopy[\"Sugu\"] == \"N\"][tulp].astype(float)\n",
    "\n",
    "# Mediaani, keskmise, standardhälve arvutamine\n",
    "print(f\"Mehed -  mediaan: {round(np.median(punktid_M), 2)}, keskmine: {round(np.mean(punktid_M), 2)}, standardhälve: {round(np.std(punktid_M), 2)}\")\n",
    "print(f\"Naised - mediaan: {round(np.median(punktid_N), 2)}, keskmine: {round(np.mean(punktid_N), 2)}, standardhälve: {round(np.std(punktid_N), 2)}\")\n",
    "\n",
    "print(\"\")\n",
    "\n",
    "# Soolise erinevuse test - Mann-Whitney U test\n",
    "stat, pvalue = mannwhitneyu(punktid_M, punktid_N)\n",
    "print(\"Mann-Whitney test - U-stat:\", round(stat, 1), \"p-value:\", round(pvalue, 3))\n",
    "if (pvalue < 0.05):\n",
    "    print(\"      Mann-Whitney U-testi järgi statistiliselt oluline erinevus, olulisusnivoo 0.05\")\n",
    "\n",
    "# Tulemuste visualiseerimine karpdiagrammina\n",
    "fig = plt.figure(figsize =(10, 7))\n",
    "plt.boxplot([punktid_M, punktid_N], labels=[\"M\", \"N\"])\n",
    "\n",
    "# Joonise kuvamine\n",
    "plt.show()"
   ]
  },
  {
   "cell_type": "markdown",
   "id": "31b9bf02-5371-4aaa-adb2-1281ae56fe7e",
   "metadata": {},
   "source": [
    "### Lisaülesanded"
   ]
  },
  {
   "cell_type": "code",
   "execution_count": 33,
   "id": "c5488c90-0f96-4fa9-b444-834b31eba744",
   "metadata": {},
   "outputs": [
    {
     "name": "stdout",
     "output_type": "stream",
     "text": [
      "Lisaülesanded\n",
      "\n",
      "Normaaljaotuse kontroll\n",
      "Shapiro-Wilk test p-value: 0.0005326784448698163\n",
      "Ei ole normaaljaotus\n",
      "\n",
      "Lisaülesandeid esitanud meeste arv 25 ja protsent 12.5\n",
      "Lisaülesandeid esitanud naiste arv 8 ja protsent 8.51\n",
      "Hii-ruut: 0.66, p-value: 0.416\n",
      "\n",
      "Mehed -  mediaan: 1.0, keskmine: 1.81, standardhälve: 1.29\n",
      "Naised - mediaan: 1.0, keskmine: 0.99, standardhälve: 0.36\n",
      "\n",
      "Mann-Whitney test - U-stat: 134.5 p-value: 0.143\n"
     ]
    },
    {
     "data": {
      "image/png": "[encoded data removed]",
      "text/plain": [
       "<Figure size 1000x700 with 1 Axes>"
      ]
     },
     "metadata": {},
     "output_type": "display_data"
    }
   ],
   "source": [
    "# Lisapunktid kokku \n",
    "tulp = 'Lisaülesanded (Punktid)'\n",
    "dfcopy = df[['Sugu', tulp]].copy()\n",
    "\n",
    "# Algne meeste ja naiste arv andmestikus\n",
    "kokkumehi = (dfcopy[\"Sugu\"] == \"M\").sum()\n",
    "kokkunaisi = (dfcopy[\"Sugu\"] == \"N\").sum()\n",
    "\n",
    "print(\"Lisaülesanded\")\n",
    "print(\"\")\n",
    "\n",
    "# Tekstiväärtuste teisendamine numbriteks, puuduvate väärtuste eemaldamine\n",
    "dfcopy[tulp] = pd.to_numeric(dfcopy[tulp], errors='coerce')\n",
    "dfcopy.dropna(subset = [tulp], inplace=True)\n",
    "\n",
    "# Kontroll, kas andmed on normaaljaotusega (Shapiro-Wilk test)\n",
    "print(\"Normaaljaotuse kontroll\")\n",
    "statistic, pvalue = shapiro(dfcopy[tulp])\n",
    "\n",
    "print(\"Shapiro-Wilk test p-value:\", pvalue)\n",
    "if(pvalue < 0.05):\n",
    "    print(\"Ei ole normaaljaotus\")\n",
    "else:\n",
    "    print(\"On normaaljaotus\")\n",
    "\n",
    "print(\"\")\n",
    "\n",
    "#Rühmatöö esitanud meeste ja naiste arv\n",
    "meestearv = (dfcopy[\"Sugu\"] == \"M\").sum()\n",
    "naistearv = (dfcopy[\"Sugu\"] == \"N\").sum()\n",
    "\n",
    "print(\"Lisaülesandeid esitanud meeste arv\", meestearv, \"ja protsent\", round(meestearv/kokkumehi*100, 2))\n",
    "print(\"Lisaülesandeid esitanud naiste arv\", naistearv, \"ja protsent\", round(naistearv/kokkunaisi*100, 2))\n",
    "\n",
    "stat, p, dof, expected = chi2_contingency([[meestearv, naistearv],\n",
    "                                           [kokkumehi - meestearv, kokkunaisi - naistearv]])\n",
    "print(f\"Hii-ruut: {stat:.2f}, p-value: {p:.3f}\")\n",
    "if p <= 0.05:    \n",
    "        print(\"OLULINE ERINEVUS\")\n",
    "print(\"\")\n",
    "\n",
    "# Punktide sooline eraldamine\n",
    "punktid_M = dfcopy[dfcopy[\"Sugu\"] == \"M\"][tulp].astype(float)\n",
    "punktid_N = dfcopy[dfcopy[\"Sugu\"] == \"N\"][tulp].astype(float)\n",
    "\n",
    "\n",
    "# Mediaani, keskmise, standardhälve arvutamine\n",
    "print(f\"Mehed -  mediaan: {round(np.median(punktid_M), 2)}, keskmine: {round(np.mean(punktid_M), 2)}, standardhälve: {round(np.std(punktid_M), 2)}\")\n",
    "print(f\"Naised - mediaan: {round(np.median(punktid_N), 2)}, keskmine: {round(np.mean(punktid_N), 2)}, standardhälve: {round(np.std(punktid_N), 2)}\")\n",
    "\n",
    "print(\"\")\n",
    "\n",
    "# Soolise erinevuse test - Mann-Whitney U test\n",
    "stat, pvalue = mannwhitneyu(punktid_M, punktid_N)\n",
    "print(\"Mann-Whitney test - U-stat:\", round(stat, 1), \"p-value:\", round(pvalue, 3))\n",
    "if (pvalue < 0.05):\n",
    "    print(\"      Mann-Whitney U-testi järgi statistiliselt oluline erinevus, olulisusnivoo 0.05\")\n",
    "\n",
    "# Tulemuste visualiseerimine karpdiagrammina\n",
    "fig = plt.figure(figsize =(10, 7))\n",
    "plt.boxplot([punktid_M, punktid_N], labels=[\"M\", \"N\"])\n",
    "\n",
    "# Joonise kuvamine\n",
    "plt.show()"
   ]
  },
  {
   "cell_type": "markdown",
   "id": "3280eda3-889b-4860-9f03-6d94f40ea3e2",
   "metadata": {},
   "source": [
    "### Punktide summa kokku "
   ]
  },
  {
   "cell_type": "code",
   "execution_count": 34,
   "id": "62778c74-1b4c-4590-8cd5-38222ecadebc",
   "metadata": {},
   "outputs": [
    {
     "name": "stdout",
     "output_type": "stream",
     "text": [
      "Punktide summa kokku\n",
      "\n",
      "Normaaljaotuse kontroll\n",
      "Shapiro-Wilk test p-value: 1.1756071003569058e-20\n",
      "Ei ole normaaljaotus\n",
      "\n",
      "Mehed -  mediaan: 86.59, keskmine: 79.57, standardhälve: 23.65\n",
      "Naised - mediaan: 85.36, keskmine: 80.65, standardhälve: 20.37\n",
      "\n",
      "Mann-Whitney test - U-stat: 9348.5 p-value: 0.94\n"
     ]
    },
    {
     "data": {
      "image/png": "[encoded data removed]",
      "text/plain": [
       "<Figure size 1000x700 with 1 Axes>"
      ]
     },
     "metadata": {},
     "output_type": "display_data"
    }
   ],
   "source": [
    "# Punktide summa (Punktid)\n",
    "tulp = 'Punktide summa (Punktid)'\n",
    "dfcopy = df[['Sugu', tulp]].copy()\n",
    "\n",
    "print(\"Punktide summa kokku\")\n",
    "print(\"\")\n",
    "\n",
    "# Tekstiväärtuste teisendamine numbriteks, puuduvate väärtuste eemaldamine\n",
    "dfcopy[tulp] = pd.to_numeric(dfcopy[tulp], errors='coerce')\n",
    "dfcopy.dropna(subset = [tulp], inplace=True)\n",
    "\n",
    "# Kontroll, kas andmed on normaaljaotusega (Shapiro-Wilk test)\n",
    "print(\"Normaaljaotuse kontroll\")\n",
    "statistic, pvalue = shapiro(dfcopy[tulp])\n",
    "\n",
    "print(\"Shapiro-Wilk test p-value:\", pvalue)\n",
    "if(pvalue < 0.05):\n",
    "    print(\"Ei ole normaaljaotus\")\n",
    "else:\n",
    "    print(\"On normaaljaotus\")\n",
    "\n",
    "print(\"\")\n",
    "\n",
    "# Punktide sooline eraldamine\n",
    "punktid_M = dfcopy[dfcopy[\"Sugu\"] == \"M\"][tulp].astype(float)\n",
    "punktid_N = dfcopy[dfcopy[\"Sugu\"] == \"N\"][tulp].astype(float)\n",
    "\n",
    "# Mediaani, keskmise, standardhälve arvutamine\n",
    "print(f\"Mehed -  mediaan: {round(np.median(punktid_M), 2)}, keskmine: {round(np.mean(punktid_M), 2)}, standardhälve: {round(np.std(punktid_M), 2)}\")\n",
    "print(f\"Naised - mediaan: {round(np.median(punktid_N), 2)}, keskmine: {round(np.mean(punktid_N), 2)}, standardhälve: {round(np.std(punktid_N), 2)}\")\n",
    "\n",
    "print(\"\")\n",
    "\n",
    "# Soolise erinevuse test - Mann-Whitney U test\n",
    "stat, pvalue = mannwhitneyu(punktid_M, punktid_N)\n",
    "print(\"Mann-Whitney test - U-stat:\", round(stat, 1), \"p-value:\", round(pvalue, 3))\n",
    "if (pvalue < 0.05):\n",
    "    print(\"      Mann-Whitney U-testi järgi statistiliselt oluline erinevus, olulisusnivoo 0.05\")\n",
    "\n",
    "# Tulemuste visualiseerimine karpdiagrammina\n",
    "fig = plt.figure(figsize =(10, 7))\n",
    "plt.boxplot([punktid_M, punktid_N], labels=[\"M\", \"N\"])\n",
    "\n",
    "# Joonise kuvamine\n",
    "plt.show()"
   ]
  },
  {
   "cell_type": "markdown",
   "id": "1fc4bbab-adbf-4362-8ded-084d15c4e717",
   "metadata": {},
   "source": [
    "### Hinnete võrdlus"
   ]
  },
  {
   "cell_type": "code",
   "execution_count": 35,
   "id": "efbb3354-5e71-46bc-8a1e-54617f27537b",
   "metadata": {},
   "outputs": [],
   "source": [
    "def hinne(punktiarv):\n",
    "    if punktiarv > 90:\n",
    "        return 'A'\n",
    "    elif punktiarv > 80:\n",
    "        return 'B'\n",
    "    elif punktiarv > 70:\n",
    "        return 'C'\n",
    "    elif punktiarv > 60: \n",
    "        return 'D'\n",
    "    elif punktiarv >= 51:\n",
    "        return 'E'\n",
    "    else:\n",
    "        return 'F'"
   ]
  },
  {
   "cell_type": "code",
   "execution_count": 36,
   "id": "dc72be45-9458-4f0f-b768-13ac5bc6913b",
   "metadata": {},
   "outputs": [
    {
     "name": "stdout",
     "output_type": "stream",
     "text": [
      "Hinde saanud meeste ja naiste arvud\n",
      "Sugu    M   N\n",
      "Hinne        \n",
      "A      73  39\n",
      "B      61  19\n",
      "C      34  19\n",
      "D      10   7\n",
      "E       2   2\n",
      "F      20   8\n",
      "\n",
      "Hinde saanud meeste ja naiste protsendid\n",
      "Sugu      M          N\n",
      "Hinne                 \n",
      "A      36.5  41.489362\n",
      "B      30.5  20.212766\n",
      "C      17.0  20.212766\n",
      "D       5.0   7.446809\n",
      "E       1.0   2.127660\n",
      "F      10.0   8.510638\n",
      "A\n",
      "Hii-ruut: 0.48, p-value: 0.488\n",
      "\n",
      "B\n",
      "Hii-ruut: 2.92, p-value: 0.088\n",
      "\n",
      "C\n",
      "Hii-ruut: 0.26, p-value: 0.613\n",
      "\n",
      "D\n",
      "Hii-ruut: 0.33, p-value: 0.568\n",
      "\n",
      "E\n",
      "Hii-ruut: 0.06, p-value: 0.811\n",
      "\n",
      "F\n",
      "Hii-ruut: 0.04, p-value: 0.847\n",
      "\n"
     ]
    }
   ],
   "source": [
    "tulp = 'Punktide summa (Punktid)'\n",
    "dfcopy = df[['Sugu', tulp]].copy()\n",
    "\n",
    "# Tekstiväärtuste teisendamine numbriteks, puuduvate väärtuste eemaldamine\n",
    "dfcopy[tulp] = pd.to_numeric(dfcopy[tulp], errors='coerce')\n",
    "dfcopy.dropna(subset = [tulp], inplace=True)\n",
    "\n",
    "# Ülemises koodiplokis oleva funktsiooni \"hinne\" abil punktidest hinde määramine\"\n",
    "dfcopy[\"Hinne\"] = dfcopy[tulp].apply(hinne)\n",
    "\n",
    "tulp = \"Hinne\"\n",
    "#Mitu meest ja naist igas hinde kategoorias on\n",
    "hinde_arvud = dfcopy.groupby([tulp, \"Sugu\"]).size().unstack(fill_value=0)\n",
    "\n",
    "kokku = dfcopy[\"Sugu\"].value_counts()\n",
    "hindeprotsent = hinde_arvud.div(kokku, axis=1) * 100\n",
    "\n",
    "sagedustabel = pd.crosstab(dfcopy[tulp], dfcopy[\"Sugu\"])\n",
    "\n",
    "print(\"Hinde saanud meeste ja naiste arvud\")\n",
    "print(sagedustabel)\n",
    "print(\"\")\n",
    "print(\"Hinde saanud meeste ja naiste protsendid\")\n",
    "print(hindeprotsent)\n",
    "\n",
    "for hinne in sagedustabel.index:\n",
    "    meestearv = sagedustabel[\"M\"].get(hinne, 0)\n",
    "    naistearv = sagedustabel[\"N\"].get(hinne, 0)\n",
    "    if(meestearv==0 or naistearv==0):\n",
    "        continue\n",
    "    stat, p, dof, expected = chi2_contingency([[meestearv, kokku[\"M\"] - meestearv],\n",
    "                                               [naistearv, kokku[\"N\"] - naistearv]])\n",
    "\n",
    "    print(hinne)\n",
    "    print(f\"Hii-ruut: {stat:.2f}, p-value: {p:.3f}\")\n",
    "    if p <= 0.05:    \n",
    "        print(\"OLULINE ERINEVUS\")    \n",
    "    print(\"\")\n",
    "\n"
   ]
  }
 ],
 "metadata": {
  "kernelspec": {
   "display_name": "Python 3 (ipykernel)",
   "language": "python",
   "name": "python3"
  },
  "language_info": {
   "codemirror_mode": {
    "name": "ipython",
    "version": 3
   },
   "file_extension": ".py",
   "mimetype": "text/x-python",
   "name": "python",
   "nbconvert_exporter": "python",
   "pygments_lexer": "ipython3",
   "version": "3.10.13"
  }
 },
 "nbformat": 4,
 "nbformat_minor": 5
}
